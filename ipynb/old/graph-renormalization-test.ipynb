{
 "cells": [
  {
   "cell_type": "code",
   "execution_count": 1,
   "metadata": {},
   "outputs": [],
   "source": [
    "from scipy import ndimage, sparse\n",
    "from scipy.linalg import eigh, inv, logm, norm\n",
    "import scipy.sparse\n",
    "import numpy as np\n",
    "import matplotlib.pyplot as plt\n",
    "import sys\n",
    "import glob"
   ]
  },
  {
   "cell_type": "code",
   "execution_count": 2,
   "metadata": {},
   "outputs": [],
   "source": [
    "def edges_rescaling(edges,scale): # edges are mat.data where mat is a sparse scipy matrix\n",
    "    edges = np.log10(edges) # log rescale weights because they vary over many decades\n",
    "    edges -= min(edges) # make them positive \n",
    "    edges /= max(edges)*1.0/scale # rescale from 0 to scale\n",
    "    return edges\n",
    "\n",
    "def build_omegaij(K,m):\n",
    "    #set the initial omegaIJ\n",
    "    nzr = K.row # list of nonzero rows and cols pairs\n",
    "    nzc = K.col # list of nonzero rows and cols pairs\n",
    "    omegaIJ_data = np.zeros(K.data.shape)\n",
    "    omegaIJ_data = np.asfarray([K.data[ind]*(1.0/m[nzr[ind]] + 1.0/m[nzc[ind]]) for ind in range(omegaIJ_data.shape[0])])\n",
    "    omegaIJ = sparse.coo_matrix((omegaIJ_data, (nzr, nzc)), shape=K.shape)\n",
    "    return omegaIJ\n",
    "def build_omegai(Kr,m):\n",
    "    #set the initial omegaI\n",
    "    omegaI = np.divide(Kr,m.reshape((m.shape[0],1))) #since m is ones leave it implicit\n",
    "    return omegaI\n",
    "def remove_col(mat,index_to_drop): #csr\n",
    "    to_keep = list(set(range(mat.shape[1]))-set(index_to_drop))    \n",
    "    mat = mat[:,to_keep]\n",
    "    return mat\n",
    "def remove_row(mat,index_to_drop): #csc\n",
    "    to_keep = list(set(range(mat.shape[0]))-set(index_to_drop))    \n",
    "    mat = mat[to_keep,:]\n",
    "    return mat\n",
    "def remove_2nodes(mat,nodes):\n",
    "    mat = mat.tocoo()\n",
    "    todrop1 = np.logical_or((mat.row==nodes[0]),(mat.row==nodes[1])).nonzero()[0]\n",
    "    todrop2 = np.logical_or((mat.col==nodes[0]),(mat.col==nodes[1])).nonzero()[0]\n",
    "    todrop = list(set(np.concatenate((todrop1,todrop2))))\n",
    "    newdata=np.delete(mat.data,todrop)\n",
    "    newrow=np.delete(mat.row,todrop)\n",
    "    newcol=np.delete(mat.col,todrop)\n",
    "    return sparse.coo_matrix((newdata, (newrow, newcol)), shape=mat.shape)\n",
    "def remove_1node(mat,node):\n",
    "    mat = mat.tocoo()\n",
    "    todrop = np.logical_or((mat.row==node[0]),(mat.col==node[0])).nonzero()[0]\n",
    "    todrop = list(set(todrop))\n",
    "    newdata=np.delete(mat.data,todrop)\n",
    "    newrow=np.delete(mat.row,todrop)\n",
    "    newcol=np.delete(mat.col,todrop)\n",
    "    return sparse.coo_matrix((newdata, (newrow, newcol)), shape=mat.shape)\n",
    "def expand(Kdata,Krow,Kcol,omegaIJdata,omegaIJrow,omegaIJcol,idxs,m,g):\n",
    "    for idx in idxs:\n",
    "        newdata=K.data[idx]\n",
    "        j=K.col[idx]\n",
    "        #add (g,j,newdata)\n",
    "        Kdata,Krow,Kcol,omegaIJdata,omegaIJrow,omegaIJcol = expand1(Kdata,Krow,Kcol,omegaIJdata,omegaIJrow,omegaIJcol,newdata,m,g,j)\n",
    "    return Kdata,Krow,Kcol,omegaIJdata,omegaIJrow,omegaIJcol\n",
    "def expand1(Kdata,Krow,Kcol,omegaIJdata,omegaIJrow,omegaIJcol,newdata,m,g,j):\n",
    "    Kdata = np.append(Kdata,newdata)\n",
    "    Krow = np.append(Krow,g)\n",
    "    Kcol = np.append(Kcol,j)\n",
    "    omegaIJdata = np.append(omegaIJdata,newdata*(1.0/m[-1]+1.0/m[j]))\n",
    "    omegaIJcol = np.append(omegaIJcol,g)\n",
    "    omegaIJrow = np.append(omegaIJrow,j)\n",
    "    #add symmetric\n",
    "    Kdata = np.append(Kdata,newdata)\n",
    "    Krow = np.append(Krow,j)\n",
    "    Kcol = np.append(Kcol,g)\n",
    "    omegaIJdata = np.append(omegaIJdata,newdata*(1.0/m[-1]+1.0/m[j]))\n",
    "    omegaIJcol = np.append(omegaIJcol,j)\n",
    "    omegaIJrow = np.append(omegaIJrow,g)\n",
    "    return Kdata,Krow,Kcol,omegaIJdata,omegaIJrow,omegaIJcol\n",
    "def delete_nodes(Kdata,Krow,Kcol,omegaIJdata,omegaIJrow,omegaIJcol,idxs):\n",
    "    Kdata = np.delete(Kdata,idxs)\n",
    "    Krow = np.delete(Krow,idxs)\n",
    "    Kcol = np.delete(Kcol,idxs)\n",
    "    omegaIJdata = np.delete(omegaIJdata,idxs)\n",
    "    omegaIJrow = np.delete(omegaIJrow,idxs)\n",
    "    omegaIJcol = np.delete(omegaIJcol,idxs)\n",
    "    return Kdata,Krow,Kcol,omegaIJdata,omegaIJrow,omegaIJcol"
   ]
  },
  {
   "cell_type": "code",
   "execution_count": 3,
   "metadata": {},
   "outputs": [],
   "source": [
    "K0 = sparse.load_npz('/home/garner1/github/tissue2graph/npz/mat_XY_10nn.npz')"
   ]
  },
  {
   "cell_type": "code",
   "execution_count": 4,
   "metadata": {
    "scrolled": false
   },
   "outputs": [
    {
     "name": "stdout",
     "output_type": "stream",
     "text": [
      "0.8048674005584304 2.0\n",
      "2.098843819917449 3.1565588521733354\n",
      "2.098843819917449 2.069355452149664\n"
     ]
    },
    {
     "ename": "ValueError",
     "evalue": "need at least one array to concatenate",
     "output_type": "error",
     "traceback": [
      "\u001b[0;31m---------------------------------------------------------------------------\u001b[0m",
      "\u001b[0;31mValueError\u001b[0m                                Traceback (most recent call last)",
      "\u001b[0;32m<ipython-input-4-ee40205d7d48>\u001b[0m in \u001b[0;36m<module>\u001b[0;34m\u001b[0m\n\u001b[1;32m     60\u001b[0m         \u001b[0msources_of_i0\u001b[0m \u001b[0;34m=\u001b[0m \u001b[0mnzr\u001b[0m\u001b[0;34m[\u001b[0m\u001b[0midx_i0iscol\u001b[0m\u001b[0;34m]\u001b[0m \u001b[0;31m# nn i in (i,i0)\u001b[0m\u001b[0;34m\u001b[0m\u001b[0;34m\u001b[0m\u001b[0m\n\u001b[1;32m     61\u001b[0m \u001b[0;34m\u001b[0m\u001b[0m\n\u001b[0;32m---> 62\u001b[0;31m         \u001b[0midxs_i\u001b[0m \u001b[0;34m=\u001b[0m \u001b[0mnp\u001b[0m\u001b[0;34m.\u001b[0m\u001b[0munique\u001b[0m\u001b[0;34m(\u001b[0m\u001b[0mnp\u001b[0m\u001b[0;34m.\u001b[0m\u001b[0mconcatenate\u001b[0m\u001b[0;34m(\u001b[0m\u001b[0;34m[\u001b[0m\u001b[0mnp\u001b[0m\u001b[0;34m.\u001b[0m\u001b[0margwhere\u001b[0m\u001b[0;34m(\u001b[0m\u001b[0mnzr\u001b[0m\u001b[0;34m==\u001b[0m\u001b[0mi\u001b[0m\u001b[0;34m)\u001b[0m \u001b[0;32mfor\u001b[0m \u001b[0mi\u001b[0m \u001b[0;32min\u001b[0m \u001b[0msources_of_i0\u001b[0m\u001b[0;34m]\u001b[0m\u001b[0;34m)\u001b[0m\u001b[0;34m)\u001b[0m \u001b[0;31m#idx of (i,...)\u001b[0m\u001b[0;34m\u001b[0m\u001b[0;34m\u001b[0m\u001b[0m\n\u001b[0m\u001b[1;32m     63\u001b[0m         \u001b[0midxs_j\u001b[0m \u001b[0;34m=\u001b[0m \u001b[0mnp\u001b[0m\u001b[0;34m.\u001b[0m\u001b[0munique\u001b[0m\u001b[0;34m(\u001b[0m\u001b[0mnp\u001b[0m\u001b[0;34m.\u001b[0m\u001b[0mconcatenate\u001b[0m\u001b[0;34m(\u001b[0m\u001b[0;34m[\u001b[0m\u001b[0mnp\u001b[0m\u001b[0;34m.\u001b[0m\u001b[0margwhere\u001b[0m\u001b[0;34m(\u001b[0m\u001b[0mnzc\u001b[0m\u001b[0;34m==\u001b[0m\u001b[0mj\u001b[0m\u001b[0;34m)\u001b[0m \u001b[0;32mfor\u001b[0m \u001b[0mj\u001b[0m \u001b[0;32min\u001b[0m \u001b[0msinks_of_i0\u001b[0m\u001b[0;34m]\u001b[0m\u001b[0;34m)\u001b[0m\u001b[0;34m)\u001b[0m \u001b[0;31m#idx of (...,j)\u001b[0m\u001b[0;34m\u001b[0m\u001b[0;34m\u001b[0m\u001b[0m\n\u001b[1;32m     64\u001b[0m \u001b[0;34m\u001b[0m\u001b[0m\n",
      "\u001b[0;32m<__array_function__ internals>\u001b[0m in \u001b[0;36mconcatenate\u001b[0;34m(*args, **kwargs)\u001b[0m\n",
      "\u001b[0;31mValueError\u001b[0m: need at least one array to concatenate"
     ]
    }
   ],
   "source": [
    "N = 10\n",
    "K = K0.copy()[:N,:N].tocoo()  #make a copy of the initial data\n",
    "m = np.ones(K0.shape[0])[:N] #initial masses\n",
    "\n",
    "omegaIJ = build_omegaij(K,m)\n",
    "omegaI = build_omegai(0.5*K.sum(axis=1),m) #0.5 since K is symmetric\n",
    "\n",
    "# %%time\n",
    "'''RG flow'''\n",
    "for counter in range(3):\n",
    "    #Find max btw node and edges\n",
    "    IJmax = omegaIJ.max()\n",
    "    Imax = omegaI.max()\n",
    "    maxtype = np.argmax([Imax,IJmax])\n",
    "    print(Imax,IJmax)\n",
    "    if False: #if edge\n",
    "        emax = omegaIJ.data.argmax()\n",
    "        nzr = K.row # list of nonzero rows and cols pairs\n",
    "        nzc = K.col # list of nonzero rows and cols pairs\n",
    "        i0 = nzr[emax];j0 = nzc[emax] #find nodes \n",
    "        idx_i0isrow = np.argwhere(nzr==i0) # (i0,j)\n",
    "        idx_i0iscol = np.argwhere(nzc==i0) # (j,i0)\n",
    "        idx_j0isrow = np.argwhere(nzr==j0) # (j0,i)\n",
    "        idx_j0iscol = np.argwhere(nzc==j0) # (i,j0)\n",
    "        nnidxs_of_i0andj0 = np.unique(np.concatenate((idx_i0isrow,idx_i0iscol,idx_j0isrow,idx_j0iscol))) #links to i0 or j0\n",
    "        nodes_common_to_i0andj0 = np.intersect1d(nzc[idx_i0isrow],nzc[idx_j0isrow])\n",
    "        nodes_exclusive_to_i0 = np.setdiff1d(nzc[idx_i0isrow],nzc[idx_j0isrow])\n",
    "        nodes_exclusive_to_j0 = np.setdiff1d(nzc[idx_j0isrow],nzc[idx_i0isrow])\n",
    "        m = np.append(m,m[i0]+m[j0]) #add a center of mass node\n",
    "        g = K.row.max()+1 #define node id of the center of mass\n",
    "        for j in nodes_exclusive_to_i0:\n",
    "            idxs = np.intersect1d(np.argwhere(nzc==j),np.argwhere(nzr==i0)) #j idx for (i0,j)\n",
    "            K.data,K.row,K.col,omegaIJ.data,omegaIJ.row,omegaIJ.col = expand(K.data,K.row,K.col,omegaIJ.data,omegaIJ.row,omegaIJ.col,idxs,m,g)\n",
    "        for j in nodes_exclusive_to_j0:\n",
    "            idxs = np.intersect1d(np.argwhere(nzc==j),np.argwhere(nzr==j0)) #(j0,j)\n",
    "            K.data,K.row,K.col,omegaIJ.data,omegaIJ.row,omegaIJ.col = expand(K.data,K.row,K.col,omegaIJ.data,omegaIJ.row,omegaIJ.col,idxs,m,g)\n",
    "        for j in nodes_common_to_i0andj0:\n",
    "            idxs_i0 = np.intersect1d(np.argwhere(nzc==j),np.argwhere(nzr==i0)) #(i0,j)\n",
    "            idxs_j0 = np.intersect1d(np.argwhere(nzc==j),np.argwhere(nzr==j0)) #(j0,j)\n",
    "            newdata = K.data[idxs_i0]+K.data[idxs_j0]\n",
    "            K.data,K.row,K.col,omegaIJ.data,omegaIJ.row,omegaIJ.col = expand1(K.data,K.row,K.col,omegaIJ.data,omegaIJ.row,omegaIJ.col,newdata,m,g,j)\n",
    "        #remove i0 and j0 from K, omegaIJ\n",
    "        K.data,K.row,K.col,omegaIJ.data,omegaIJ.row,omegaIJ.col = delete_nodes(K.data,K.row,K.col,omegaIJ.data,omegaIJ.row,omegaIJ.col,nnidxs_of_i0andj0)\n",
    "        #update omegaI\n",
    "        nn_nodes_ofi0andj0 = np.unique(np.concatenate(([nzc[idx] for idx in idx_i0isrow],[nzr[idx] for idx in idx_i0iscol],\n",
    "                       [nzc[idx] for idx in idx_j0isrow],[nzr[idx] for idx in idx_j0iscol])))\n",
    "        omegaI_g = np.array(sum([K.data[idx] for idx in np.argwhere(K.row==g)])*1.0/m[g]).reshape(1,1)\n",
    "        omegaI = np.append(omegaI,omegaI_g,0)\n",
    "        for j in np.setdiff1d(nn_nodes_ofi0andj0,[g]):\n",
    "            omegaI[j] = sum([K.data[idx] for idx in np.argwhere(K.row==j)])*1.0/m[j]\n",
    "    if True: #if node\n",
    "        i0 = omegaI.argmax(axis=None)\n",
    "        nzr = K.row # list of nonzero rows and cols pairs\n",
    "        nzc = K.col # list of nonzero rows and cols pairs\n",
    "        #find NN of i0\n",
    "        idx_i0isrow = np.argwhere(nzr==i0) # idxs of (i0,j)\n",
    "        idx_i0iscol = np.argwhere(nzc==i0) # idx of (i,i0)\n",
    "        \n",
    "        sinks_of_i0 = nzc[idx_i0isrow] # nn j in (i0,j)\n",
    "        sources_of_i0 = nzr[idx_i0iscol] # nn i in (i,i0)\n",
    "        \n",
    "        idxs_i = np.unique(np.concatenate([np.argwhere(nzr==i) for i in sources_of_i0])) #idx of (i,...)\n",
    "        idxs_j = np.unique(np.concatenate([np.argwhere(nzc==j) for j in sinks_of_i0])) #idx of (...,j)\n",
    "        \n",
    "        K_ij_idxs = np.union1d(idxs_i,idxs_j) #idxs of (i,j) present in old K\n",
    "        \n",
    "        for idx in K_ij_idxs: \n",
    "            i=K.row[idx]\n",
    "            j=K.col[idx]\n",
    "            idx_ii0 = np.intersect1d(np.argwhere(nzr==i),np.argwhere(nzc==i0))\n",
    "            idx_i0j = np.intersect1d(np.argwhere(nzr==i0),np.argwhere(nzc==j))\n",
    "            rescale = K.data[idx_ii0]*K.data[idx_i0j]*1.0/omegaI[i0]\n",
    "            if rescale.shape == (1,1):\n",
    "                K.data[idx] = K.data[idx]+rescale\n",
    "                omegaIJ.data[idx] = K.data[idx]*(1.0/m[i]+1.0/m[j])\n",
    "                #symmetrize\n",
    "                idx_ji = np.intersect1d(np.argwhere(nzr==j),np.argwhere(nzc==i))\n",
    "                K.data[idx_ji] = K.data[idx]\n",
    "                omegaIJ.data[idx_ji] = omegaIJ.data[idx]\n",
    "        #remove i0 from K, omegaIJ\n",
    "        K.data,K.row,K.col,omegaIJ.data,omegaIJ.row,omegaIJ.col = delete_nodes(K.data,K.row,K.col,omegaIJ.data,omegaIJ.row,omegaIJ.col,np.union1d(idx_i0isrow,idx_i0iscol))\n",
    "        for j in sinks_of_i0:\n",
    "            omegaI[j] = sum([K.data[idx] for idx in np.argwhere(K.row==j)])*1.0/m[j]    "
   ]
  },
  {
   "cell_type": "code",
   "execution_count": 77,
   "metadata": {},
   "outputs": [
    {
     "name": "stdout",
     "output_type": "stream",
     "text": [
      "[5448 5449 5480 5580 5614 5615 5616 5617 5633 5634 5635 5636 5663 5796\n",
      " 5797 5798 5800 5804 5805 5821 5873 5874 5875 5880 5883 5892 5898 5925\n",
      " 5955 5956 5957 5963 5964 6018 6019 6025 6029 6030 6036 6037 6044 6046\n",
      " 6047 6142 6143 6144 6145 6146 6147 6148 6149 6150 6151 6261 6265 6279\n",
      " 6282 6283 6316 6394 6398 6399 6400 6622 6625 6626 6627 6628 6629 6630\n",
      " 6647 6648 6650 6660 6662 6723 6725 6803 6827 7002 7129 7219] [5799 5801 5802 5803 5806 5876 5877 5878 5879 5881 5882 5893 5894 5895\n",
      " 5896 5897 5899 5900 5901 5958 5959 5960 5961 5962 5965 5966 5967 6020\n",
      " 6021 6022 6023 6024 6026 6027 6028 6031 6032 6033 6034 6035 6038 6039\n",
      " 6040 6255 6256 6257 6258 6259 6260 6262 6263 6264 6275 6276 6277 6278\n",
      " 6280 6281 6390 6391 6392 6393 6395 6396 6397 6621 6623 6624]\n"
     ]
    }
   ],
   "source": [
    "print(new_ij,existing_ij)"
   ]
  },
  {
   "cell_type": "code",
   "execution_count": null,
   "metadata": {},
   "outputs": [],
   "source": [
    "A,B = expand1(K,omegaIJ,newdata,m,g,j)"
   ]
  },
  {
   "cell_type": "code",
   "execution_count": null,
   "metadata": {},
   "outputs": [],
   "source": [
    "sns.set(style='white', rc={'figure.figsize':(50,50)})\n",
    "\n",
    "G = nx.from_scipy_sparse_matrix(mat_XY) # if sparse matrix\n",
    "eset = [(u, v) for (u, v, d) in G.edges(data=True)]\n",
    "weights = [d['weight'] for (u, v, d) in G.edges(data=True)]\n",
    "pos = XY"
   ]
  },
  {
   "cell_type": "code",
   "execution_count": null,
   "metadata": {},
   "outputs": [],
   "source": [
    "nx.draw_networkx_nodes(G, pos,alpha=0.0)\n",
    "nx.draw_networkx_edges(G, pos, edgelist=eset,alpha=1.0, width=weights,edge_color='r',style='solid')\n",
    "plt.axis('off')\n",
    "# plt.savefig(str(img_id)+'graph_only.png',bbox_inches='tight')\n",
    "# plt.close()\n"
   ]
  }
 ],
 "metadata": {
  "kernelspec": {
   "display_name": "Python 3",
   "language": "python",
   "name": "python3"
  },
  "language_info": {
   "codemirror_mode": {
    "name": "ipython",
    "version": 3
   },
   "file_extension": ".py",
   "mimetype": "text/x-python",
   "name": "python",
   "nbconvert_exporter": "python",
   "pygments_lexer": "ipython3",
   "version": "3.6.8"
  }
 },
 "nbformat": 4,
 "nbformat_minor": 2
}
