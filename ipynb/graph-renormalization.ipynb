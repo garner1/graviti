{
 "cells": [
  {
   "cell_type": "code",
   "execution_count": 1,
   "metadata": {},
   "outputs": [],
   "source": [
    "from scipy import ndimage, sparse\n",
    "from scipy.linalg import eigh, inv, logm, norm\n",
    "import scipy.sparse\n",
    "import numpy as np\n",
    "import matplotlib.pyplot as plt\n",
    "import sys\n",
    "import glob\n",
    "\n",
    "import networkx as nx\n",
    "import seaborn as sns; sns.set()"
   ]
  },
  {
   "cell_type": "code",
   "execution_count": 2,
   "metadata": {},
   "outputs": [],
   "source": [
    "def edges_rescaling(edges,scale): # edges are mat.data where mat is a sparse scipy matrix\n",
    "    edges = np.log10(edges) # log rescale weights because they vary over many decades\n",
    "    edges -= min(edges) # make them positive \n",
    "    edges /= max(edges)*1.0/scale # rescale from 0 to scale\n",
    "    return edges\n",
    "\n",
    "def build_omegaij(K):\n",
    "    #set the initial omegaIJ\n",
    "    nzr, nzc = K.nonzero() # list of nonzero rows and cols pairs\n",
    "    omegaIJ_data = np.zeros(K.data.shape)\n",
    "    omegaIJ_data = np.asfarray([K.data[ind]*(1.0/m[nzr[ind]] + 1.0/m[nzc[ind]]) for ind in range(omegaIJ_data.shape[0])])\n",
    "    omegaIJ = sparse.csr_matrix((omegaIJ_data, (nzr, nzc)), shape=K.shape)\n",
    "    return omegaIJ\n",
    "def build_omegai(K):\n",
    "    #set the initial omegaI\n",
    "    omegaI = np.asfarray(K.sum(axis=1))#1.0/m #since m is ones leave it implicit\n",
    "    return omegaI\n",
    "def remove_col(mat,index_to_drop): #csr\n",
    "    to_keep = list(set(range(mat.shape[1]))-set(index_to_drop))    \n",
    "    mat = mat[:,to_keep]\n",
    "    return mat\n",
    "def remove_row(mat,index_to_drop): #csc\n",
    "    to_keep = list(set(range(mat.shape[0]))-set(index_to_drop))    \n",
    "    mat = mat[to_keep,:]\n",
    "    return mat\n",
    "def remove_2nodes(mat,nodes):\n",
    "    mat = mat.tocoo()\n",
    "    todrop1 = np.logical_or((mat.row==nodes[0]),(mat.row==nodes[1])).nonzero()[0]\n",
    "    todrop2 = np.logical_or((mat.col==nodes[0]),(mat.col==nodes[1])).nonzero()[0]\n",
    "    todrop = list(set(np.concatenate((todrop1,todrop2))))\n",
    "    newdata=np.delete(mat.data,todrop)\n",
    "    newrow=np.delete(mat.row,todrop)\n",
    "    newcol=np.delete(mat.col,todrop)\n",
    "    return sparse.coo_matrix((newdata, (newrow, newcol)), shape=mat.shape)\n",
    "def remove_1node(mat,node):\n",
    "    mat = mat.tocoo()\n",
    "    todrop = np.logical_or((mat.row==node[0]),(mat.col==node[0])).nonzero()[0]\n",
    "    todrop = list(set(todrop))\n",
    "    newdata=np.delete(mat.data,todrop)\n",
    "    newrow=np.delete(mat.row,todrop)\n",
    "    newcol=np.delete(mat.col,todrop)\n",
    "    return sparse.coo_matrix((newdata, (newrow, newcol)), shape=mat.shape)\n",
    "def csr_matrix_equal2(a1, a2):\n",
    "    return all((np.array_equal(a1.indptr, a2.indptr),\n",
    "                np.array_equal(a1.indices, a2.indices),\n",
    "                np.array_equal(a1.data, a2.data)))"
   ]
  },
  {
   "cell_type": "code",
   "execution_count": 3,
   "metadata": {},
   "outputs": [],
   "source": [
    "K0 = sparse.load_npz('/home/garner1/Work/pipelines/tissue2graph/npz/mat_XY_10nn.npz')\n",
    "data = np.load('/home/garner1/Work/pipelines/tissue2graph/npz/X-XY_data.npz',allow_pickle=True)\n",
    "XY0 = data['XY']"
   ]
  },
  {
   "cell_type": "code",
   "execution_count": 4,
   "metadata": {},
   "outputs": [],
   "source": [
    "K = K0.copy()  #make a copy of the initial data\n",
    "XY = XY0.copy() #make a copy of the initial coord\n",
    "m = np.ones(K0.shape[0]) #initial masses\n",
    "omegaIJ = build_omegaij(K)\n",
    "omegaI = build_omegai(K)"
   ]
  },
  {
   "cell_type": "code",
   "execution_count": 20,
   "metadata": {},
   "outputs": [
    {
     "name": "stdout",
     "output_type": "stream",
     "text": [
      "0 10513067 [7.0166124374687495, 2.0]\n",
      "1 10513053 [7.015705567750334, 2.0]\n",
      "2 10513044 [7.0092110124351, 2.0]\n",
      "3 10513034 [7.008961148222947, 2.0]\n",
      "4 10513022 [6.97173751988552, 2.0]\n",
      "5 10513009 [6.969296122629697, 2.0]\n",
      "6 10512996 [6.963934693753409, 2.0]\n",
      "7 10512984 [6.949021815756204, 2.0]\n",
      "8 10512973 [6.919946582094523, 2.0]\n",
      "9 10512964 [6.917705510109973, 2.0]\n",
      "CPU times: user 1min 31s, sys: 10.5 s, total: 1min 41s\n",
      "Wall time: 1min 41s\n"
     ]
    }
   ],
   "source": [
    "%%time\n",
    "'''RG flow'''\n",
    "for counter in range(10):\n",
    "    #Find the position of the maximum edge value\n",
    "    nzr, nzc = K.nonzero() # list of nonzero rows and cols pairs\n",
    "    emax = omegaIJ.data.argmax()\n",
    "    r = nzr[emax]\n",
    "    c = nzc[emax]\n",
    "    #Find the position of the max node value\n",
    "    nmax = omegaI.argmax(axis=None)\n",
    "    #Find max btw node and edges\n",
    "    maxtype = np.argmax([omegaI.max(),omegaIJ[r,c]])\n",
    "    \n",
    "    print(counter,K.nnz,[omegaI.max(),omegaIJ[r,c]])\n",
    "    if maxtype==1: #if edge\n",
    "        #add a center of mass node\n",
    "        K = sparse.vstack([K, np.zeros(K.shape[1])])#.tocsr()\n",
    "        K = sparse.hstack([K, np.zeros((K.shape[0],1))])#.tocsr()\n",
    "        omegaIJ = sparse.vstack([omegaIJ, np.zeros(omegaIJ.shape[1])])#.tocsr()\n",
    "        omegaIJ = sparse.hstack([omegaIJ, np.zeros((omegaIJ.shape[0],1))])#.tocsr()\n",
    "        omegaI = np.append(omegaI, 0)#.tocsr()\n",
    "        #add coordinates of the center of mass\n",
    "        cm = np.asfarray([0.5*(XY[r][0]+XY[c][0]),0.5*(XY[r][1]+XY[c][1])]) \n",
    "        XY = np.vstack((XY,cm))\n",
    "        #update mass list\n",
    "        m_cm = m[r] + m[c]\n",
    "        m = np.hstack((m,m_cm))\n",
    "        #find nodes linked to r or c or both\n",
    "        rows_position_with_R_incol = np.where(nzc == r)[0]\n",
    "        rows_position_with_C_incol = np.where(nzc == c)[0]\n",
    "        nodes_connected2RandC = np.unique(np.concatenate((nzr[rows_position_with_C_incol],nzr[rows_position_with_R_incol]),axis=None))\n",
    "        #update K and omegaIJ\n",
    "        K=K.tolil()\n",
    "        omegaIJ=omegaIJ.tolil()\n",
    "        for node in nodes_connected2RandC:\n",
    "            K[node,-1] = K[node,r] + K[node,c]\n",
    "            K[-1,node] = K[node,-1] \n",
    "            omegaIJ[node,-1] = K[node,-1]*(1.0/m[node] + 1.0/m[-1])\n",
    "            omegaIJ[-1,node] = omegaIJ[node,-1]\n",
    "        #delete R and C from K and omegaIJ\n",
    "        K = remove_2nodes(K,[r,c]).tocsr()\n",
    "        omegaIJ = remove_2nodes(omegaIJ,[r,c]).tocsr()\n",
    "        #update omegaI\n",
    "        Kr = K.sum(axis=1)\n",
    "        omegaI[-1] = Kr[-1]*1.0/m[-1]\n",
    "        for node in nodes_connected2RandC:\n",
    "            omegaI[node] = Kr[node]*1.0/m[node]\n",
    "        omegaI[r] = 0;omegaI[c] = 0\n",
    "    if maxtype==0: #if node\n",
    "        #renormalize K\n",
    "        cols_position_with_nmax_inrow = np.where(nzr == nmax)[0]\n",
    "        rows_position_with_nmax_incol = np.where(nzc == nmax)[0]\n",
    "        s = sum([K[nmax,nzc[cols_position_with_nmax_inrow[ind]]] for ind in range(cols_position_with_nmax_inrow.shape[0])] )\n",
    "        #update K and omegaIJ\n",
    "        K = K.tolil();omegaIJ = omegaIJ.tolil()\n",
    "        for ind in range(cols_position_with_nmax_inrow.shape[0]):\n",
    "            K[nzr[rows_position_with_nmax_incol[ind]],nzc[cols_position_with_nmax_inrow[ind]]] += K[nzr[rows_position_with_nmax_incol[ind]],nmax]*K[nmax,nzc[cols_position_with_nmax_inrow[ind]]]*1.0/s\n",
    "            omegaIJ[nzr[rows_position_with_nmax_incol[ind]],nzc[cols_position_with_nmax_inrow[ind]]] = K[nzr[rows_position_with_nmax_incol[ind]],nzc[cols_position_with_nmax_inrow[ind]]]*(1.0/m[nzr[rows_position_with_nmax_incol[ind]]] + 1.0/m[nzc[cols_position_with_nmax_inrow[ind]]])\n",
    "        # remove nmax node from K and omegaIJ\n",
    "        K = remove_1node(K,[nmax]).tocsr()\n",
    "        omegaIJ = remove_1node(omegaIJ,[nmax]).tocsr()\n",
    "        #update omegaI\n",
    "        Kr = K.sum(axis=1)\n",
    "        for node_pos in rows_position_with_nmax_incol:\n",
    "            omegaI[nzr[node_pos]] = Kr[nzr[node_pos]]*1.0/m[nzr[node_pos]]\n",
    "        omegaI[nmax] = 0\n",
    "        "
   ]
  },
  {
   "cell_type": "code",
   "execution_count": 23,
   "metadata": {},
   "outputs": [
    {
     "name": "stdout",
     "output_type": "stream",
     "text": [
      "(1035994, 1035994) (1035994, 2) (1035994,) (1035994, 1035994) (1035994, 1)\n"
     ]
    }
   ],
   "source": [
    "# (abs(K-K.T)>1e-10).nnz == 0 # to check if K is symmetric"
   ]
  },
  {
   "cell_type": "code",
   "execution_count": null,
   "metadata": {},
   "outputs": [],
   "source": [
    "sns.set(style='white', rc={'figure.figsize':(50,50)})\n",
    "\n",
    "G = nx.from_scipy_sparse_matrix(mat_XY) # if sparse matrix\n",
    "eset = [(u, v) for (u, v, d) in G.edges(data=True)]\n",
    "weights = [d['weight'] for (u, v, d) in G.edges(data=True)]\n",
    "pos = XY"
   ]
  },
  {
   "cell_type": "code",
   "execution_count": null,
   "metadata": {},
   "outputs": [],
   "source": [
    "nx.draw_networkx_nodes(G, pos,alpha=0.0)\n",
    "nx.draw_networkx_edges(G, pos, edgelist=eset,alpha=1.0, width=weights,edge_color='r',style='solid')\n",
    "plt.axis('off')\n",
    "# plt.savefig(str(img_id)+'graph_only.png',bbox_inches='tight')\n",
    "# plt.close()\n"
   ]
  }
 ],
 "metadata": {
  "kernelspec": {
   "display_name": "Python 3",
   "language": "python",
   "name": "python3"
  },
  "language_info": {
   "codemirror_mode": {
    "name": "ipython",
    "version": 3
   },
   "file_extension": ".py",
   "mimetype": "text/x-python",
   "name": "python",
   "nbconvert_exporter": "python",
   "pygments_lexer": "ipython3",
   "version": "3.7.3"
  }
 },
 "nbformat": 4,
 "nbformat_minor": 2
}
