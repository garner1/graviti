{
 "cells": [
  {
   "cell_type": "code",
   "execution_count": 1,
   "metadata": {},
   "outputs": [
    {
     "name": "stdout",
     "output_type": "stream",
     "text": [
      "/home/garner1/Work/dataset/tissue2graph/npz/iMS266_20190426_001.sub496.tif_data_r19_c20.npz\n",
      "/home/garner1/Work/dataset/tissue2graph/npz/iMS266_20190426_001.sub88.tif_data_r3_c12.npz\n",
      "/home/garner1/Work/dataset/tissue2graph/npz/iMS266_20190426_001.sub350.tif_data_r13_c24.npz\n",
      "/home/garner1/Work/dataset/tissue2graph/npz/iMS266_20190426_001.sub454.tif_data_r18_c3.npz\n",
      "/home/garner1/Work/dataset/tissue2graph/npz/iMS266_20190426_001.sub271.tif_data_r10_c20.npz\n",
      "/home/garner1/Work/dataset/tissue2graph/npz/iMS266_20190426_001.sub299.tif_data_r11_c23.npz\n",
      "/home/garner1/Work/dataset/tissue2graph/npz/iMS266_20190426_001.sub106.tif_data_r4_c5.npz\n",
      "/home/garner1/Work/dataset/tissue2graph/npz/iMS266_20190426_001.sub331.tif_data_r13_c5.npz\n",
      "/home/garner1/Work/dataset/tissue2graph/npz/iMS266_20190426_001.sub73.tif_data_r2_c22.npz\n",
      "/home/garner1/Work/dataset/tissue2graph/npz/iMS266_20190426_001.sub309.tif_data_r12_c8.npz\n"
     ]
    },
    {
     "data": {
      "text/plain": [
       "(1987.7018894313935, 25857.92543976115, 1127.388113876998, 21399.564827299466)"
      ]
     },
     "execution_count": 1,
     "metadata": {},
     "output_type": "execute_result"
    }
   ],
   "source": [
    "import numpy as np\n",
    "from scipy import ndimage, sparse\n",
    "from scipy.linalg import eigh, inv, logm, norm\n",
    "import numpy as np\n",
    "import matplotlib.pyplot as plt\n",
    "import sys\n",
    "\n",
    "import glob\n",
    "XYs=[]\n",
    "path = \"/home/garner1/Work/dataset/tissue2graph/npz/iMS266_20190426_001.sub*.tif_data_r*_c*.npz\"\n",
    "for filename in glob.glob(path)[:10]:\n",
    "    print(filename)\n",
    "    data = np.load(filename,allow_pickle=True)\n",
    "    row=data['row'];col=data['col']\n",
    "    XY = data['centroids']\n",
    "    XY[:,1] += 1024*row[0] # the row of the fov translate the y coord\n",
    "    XY[:,0] += 1024*col[0] # the col of the fov translate the x coord\n",
    "    XYs.append(XY)\n",
    "\n",
    "\n",
    "XY = np.vstack(XYs) # the full XY data\n",
    "\n",
    "import umap\n",
    "import warnings\n",
    "warnings.filterwarnings('ignore')\n",
    "\n",
    "mat_XY = umap.umap_.fuzzy_simplicial_set(\n",
    "    XY,\n",
    "    n_neighbors=10, \n",
    "    random_state=np.random.RandomState(seed=42),\n",
    "    metric='l2',\n",
    "    metric_kwds={},\n",
    "    knn_indices=None,\n",
    "    knn_dists=None,\n",
    "    angular=False,\n",
    "    set_op_mix_ratio=1.0,\n",
    "    local_connectivity=2.0,\n",
    "    verbose=False\n",
    "    )\n",
    "\n",
    "import networkx as nx\n",
    "import seaborn as sns; sns.set()\n",
    "sns.set(style='white', rc={'figure.figsize':(50,50)})\n",
    "\n",
    "G = nx.from_scipy_sparse_matrix(mat_XY) # if sparse matrix\n",
    "eset = [(u, v) for (u, v, d) in G.edges(data=True) if d['weight'] > 0.0]\n",
    "weights = [d['weight'] for (u, v, d) in G.edges(data=True)]\n",
    "pos = XY\n",
    "\n",
    "nx.draw_networkx_nodes(G, pos,alpha=0.0)\n",
    "nx.draw_networkx_edges(G, pos, edgelist=eset,alpha=1.0, width=weights,edge_color='r',style='solid')\n",
    "plt.axis('off')\n",
    "plt.savefig(\"test.png\") # save as png"
   ]
  }
 ],
 "metadata": {
  "kernelspec": {
   "display_name": "Python 3",
   "language": "python",
   "name": "python3"
  },
  "language_info": {
   "codemirror_mode": {
    "name": "ipython",
    "version": 3
   },
   "file_extension": ".py",
   "mimetype": "text/x-python",
   "name": "python",
   "nbconvert_exporter": "python",
   "pygments_lexer": "ipython3",
   "version": "3.6.8"
  }
 },
 "nbformat": 4,
 "nbformat_minor": 2
}
