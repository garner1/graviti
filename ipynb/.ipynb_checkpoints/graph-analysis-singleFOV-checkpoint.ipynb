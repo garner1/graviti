{
 "cells": [
  {
   "cell_type": "code",
   "execution_count": null,
   "metadata": {},
   "outputs": [],
   "source": [
    "import numpy as np\n",
    "from scipy import ndimage, sparse\n",
    "from scipy.linalg import eigh, inv, logm, norm\n",
    "import numpy as np\n",
    "import matplotlib.pyplot as plt\n",
    "import sys\n",
    "\n",
    "def airm(a,b): #affine invariant Riemannian metric\n",
    "    w, v = eigh(a)\n",
    "    wsqrt = np.sqrt(np.abs(w))\n",
    "    a1 = inv(v @ np.diag(wsqrt) @ v.T)\n",
    "    L = norm( logm( a1 @ b @ a1 ) )\n",
    "    return L\n",
    "\n",
    "def lerm(a,b): #log euclidean Riemannian metric\n",
    "    L = norm( logm(a) - logm(b) )\n",
    "    return L"
   ]
  },
  {
   "cell_type": "code",
   "execution_count": null,
   "metadata": {},
   "outputs": [],
   "source": [
    "import numpy as np\n",
    "import pandas as pd\n",
    "import holoviews as hv\n",
    "import networkx as nx\n",
    "from holoviews import opts\n",
    "\n",
    "hv.extension('bokeh')\n",
    "\n",
    "defaults = dict(width=400, height=400, padding=0.1)\n",
    "hv.opts.defaults(\n",
    "    opts.EdgePaths(**defaults), opts.Graph(**defaults), opts.Nodes(**defaults))"
   ]
  },
  {
   "cell_type": "code",
   "execution_count": null,
   "metadata": {},
   "outputs": [],
   "source": [
    "sub=str(9)\n",
    "r=str(0)\n",
    "c=str(8)"
   ]
  },
  {
   "cell_type": "code",
   "execution_count": null,
   "metadata": {},
   "outputs": [],
   "source": [
    "filename = '/home/garner1/Work/dataset/tissue2graph/npz/iMS266_20190426_001.sub'+sub+'.tif_data_r'+r+'_c'+c+'.npz'\n",
    "data = np.load(filename,allow_pickle=True)\n",
    "\n",
    "covds = data['descriptors']\n",
    "sintensity = data['sintensity']\n",
    "row=data['row'];col=data['col']\n",
    "XYs=data['centroids']"
   ]
  },
  {
   "cell_type": "code",
   "execution_count": null,
   "metadata": {},
   "outputs": [],
   "source": [
    "print(XYs.shape,covds.shape)"
   ]
  },
  {
   "cell_type": "code",
   "execution_count": null,
   "metadata": {},
   "outputs": [],
   "source": [
    "X = []\n",
    "for ind in range(len(covds)):\n",
    "    b = logm(covds[ind]).flatten()\n",
    "    X.append(b)\n",
    "X = np.asfarray(X)"
   ]
  },
  {
   "cell_type": "code",
   "execution_count": null,
   "metadata": {},
   "outputs": [],
   "source": [
    "import umap\n",
    "import warnings\n",
    "warnings.filterwarnings('ignore')\n",
    "\n",
    "mat_X = umap.umap_.fuzzy_simplicial_set(\n",
    "    X,\n",
    "    n_neighbors=50, \n",
    "    random_state=np.random.RandomState(seed=42),\n",
    "    metric='l2',  \n",
    "    metric_kwds={},\n",
    "    knn_indices=None,\n",
    "    knn_dists=None,\n",
    "    angular=False,\n",
    "    set_op_mix_ratio=1.0,\n",
    "    local_connectivity=2.0,\n",
    "    verbose=False\n",
    "    )"
   ]
  },
  {
   "cell_type": "code",
   "execution_count": null,
   "metadata": {},
   "outputs": [],
   "source": [
    "mat_XY = umap.umap_.fuzzy_simplicial_set(\n",
    "    XYs,\n",
    "    n_neighbors=50, \n",
    "    random_state=np.random.RandomState(seed=42),\n",
    "    metric='l2',\n",
    "    metric_kwds={},\n",
    "    knn_indices=None,\n",
    "    knn_dists=None,\n",
    "    angular=False,\n",
    "    set_op_mix_ratio=1.0,\n",
    "    local_connectivity=2.0,\n",
    "    verbose=False\n",
    "    )"
   ]
  },
  {
   "cell_type": "code",
   "execution_count": null,
   "metadata": {},
   "outputs": [],
   "source": [
    "import networkx as nx\n",
    "import seaborn as sns; sns.set()\n",
    "\n",
    "sns.set(style='white', rc={'figure.figsize':(50,50)})\n",
    "# img = cv2.imread('/home/garner1/Work/dataset/dataset_patient52/iMS266_20190426_001.sub'+str(img_id)+'.jpg', cv2.IMREAD_GRAYSCALE)\n",
    "\n",
    "G = nx.from_scipy_sparse_matrix(mat_X) # if sparse matrix\n",
    "eset = [(u, v) for (u, v, d) in G.edges(data=True) if d['weight'] > 0.0]\n",
    "weights = [d['weight'] for (u, v, d) in G.edges(data=True)]\n",
    "pos = XYs\n",
    "\n",
    "nx.draw_networkx_nodes(G, pos,alpha=1.0)\n",
    "nx.draw_networkx_edges(G, pos, edgelist=eset,alpha=1.0, width=weights,edge_color='r',style='solid')\n",
    "plt.axis('off')\n",
    "# plt.savefig(str(img_id)+'graph_only.png',bbox_inches='tight')\n",
    "# plt.close()\n"
   ]
  },
  {
   "cell_type": "code",
   "execution_count": null,
   "metadata": {
    "scrolled": false
   },
   "outputs": [],
   "source": [
    "sns.set(style='white', rc={'figure.figsize':(50,50)})\n",
    "\n",
    "G = nx.from_scipy_sparse_matrix(mat_XY) # if sparse matrix\n",
    "eset = [(u, v) for (u, v, d) in G.edges(data=True) if d['weight'] > 0]\n",
    "weights = [d['weight'] for (u, v, d) in G.edges(data=True)]\n",
    "pos = XYs\n",
    "\n",
    "nx.draw_networkx_nodes(G, pos,alpha=1.0)\n",
    "nx.draw_networkx_edges(G, pos, edgelist=eset,alpha=1.0, width=weights,edge_color='r',style='solid')\n",
    "plt.axis('off')"
   ]
  },
  {
   "cell_type": "code",
   "execution_count": null,
   "metadata": {},
   "outputs": [],
   "source": [
    "def edges_rescaling(edges): # edges are mat.data where mat is a sparse scipy matrix\n",
    "    edges = np.log10(edges) # log rescale weights because they vary over many decades\n",
    "    edges -= min(edges)-5 # make them positive \n",
    "#     edges = np.log1p(edges)\n",
    "    edges /= max(edges)*1.0/10 # rescale from 0 to 10\n",
    "    return edges"
   ]
  },
  {
   "cell_type": "code",
   "execution_count": null,
   "metadata": {},
   "outputs": [],
   "source": [
    "hada = mat_X.multiply(mat_XY)"
   ]
  },
  {
   "cell_type": "code",
   "execution_count": null,
   "metadata": {},
   "outputs": [],
   "source": [
    "sns.set(style='white', rc={'figure.figsize':(10,10)})\n",
    "sns.distplot(np.log(hada.data))"
   ]
  },
  {
   "cell_type": "code",
   "execution_count": null,
   "metadata": {},
   "outputs": [],
   "source": [
    "hada.data = edges_rescaling(hada.data) # rescale to a log-scale from 0 to 10"
   ]
  },
  {
   "cell_type": "code",
   "execution_count": null,
   "metadata": {},
   "outputs": [],
   "source": [
    "sns.set(style='white', rc={'figure.figsize':(10,10)})\n",
    "sns.distplot(hada.data)"
   ]
  },
  {
   "cell_type": "code",
   "execution_count": null,
   "metadata": {},
   "outputs": [],
   "source": [
    "sns.set(style='white', rc={'figure.figsize':(50,50)})\n",
    "\n",
    "G = nx.from_scipy_sparse_matrix(hada)\n",
    "eset = [(u, v) for (u, v, d) in G.edges(data=True) if d['weight'] > 0.0]\n",
    "weights = [d['weight'] for (u, v, d) in G.edges(data=True)]\n",
    "pos = XYs\n",
    "\n",
    "nx.draw_networkx_nodes(G, pos,alpha=1.0)\n",
    "nx.draw_networkx_edges(G, pos, edgelist=eset,alpha=1.0, width=weights,edge_color='r',style='solid')\n",
    "# nx.draw_networkx_edges(G, pos, edgelist=eset,alpha=1.0, edge_color='r',style='solid')\n",
    "plt.axis('off')"
   ]
  },
  {
   "cell_type": "code",
   "execution_count": null,
   "metadata": {},
   "outputs": [],
   "source": [
    "import tensorly as tl\n",
    "from tensorly.decomposition import non_negative_parafac\n",
    "\n",
    "T = np.zeros(shape = (X.shape[0],X.shape[0],2))\n",
    "T[:,:,0] = hada.toarray() \n",
    "# T[:,:,1] = mat_X.toarray()\n",
    "T[:,:,1] = mat_XY.toarray()\n",
    "sys.getsizeof(T)"
   ]
  },
  {
   "cell_type": "code",
   "execution_count": null,
   "metadata": {},
   "outputs": [],
   "source": [
    "factors = non_negative_parafac(T, rank=3, verbose=1, n_iter_max=10,tol=1e-08,init='random')"
   ]
  },
  {
   "cell_type": "code",
   "execution_count": null,
   "metadata": {},
   "outputs": [],
   "source": [
    "# [factors[1][ind].shape for ind in range(3)]"
   ]
  },
  {
   "cell_type": "code",
   "execution_count": null,
   "metadata": {
    "scrolled": false
   },
   "outputs": [],
   "source": [
    "for i in range(factors[1][0].shape[1]):\n",
    "    a = factors[1][0][:,i]\n",
    "    b = factors[1][1][:,i]\n",
    "    c = factors[1][2][:,i]\n",
    "    s = 0.5*(a+b)\n",
    "    mat = np.outer(s,s) # symmetrize wrt a & b\n",
    "    print(tl.norm(a,2)*tl.norm(b,2)*tl.norm(c,2))\n",
    "#     plt.imshow(mat, cmap='Blues', interpolation='nearest')\n",
    "    plt.figure(figsize=(10, 10))\n",
    "    sns.heatmap(mat,cmap='Blues',square=True,xticklabels=False,yticklabels=False)\n",
    "    plt.show() "
   ]
  },
  {
   "cell_type": "code",
   "execution_count": null,
   "metadata": {},
   "outputs": [],
   "source": [
    "factors[1][0][:10,:3]"
   ]
  },
  {
   "cell_type": "code",
   "execution_count": null,
   "metadata": {},
   "outputs": [],
   "source": [
    "factors[1][1][:10,:3]"
   ]
  }
 ],
 "metadata": {
  "kernelspec": {
   "display_name": "Python 3",
   "language": "python",
   "name": "python3"
  },
  "language_info": {
   "codemirror_mode": {
    "name": "ipython",
    "version": 3
   },
   "file_extension": ".py",
   "mimetype": "text/x-python",
   "name": "python",
   "nbconvert_exporter": "python",
   "pygments_lexer": "ipython3",
   "version": "3.7.3"
  }
 },
 "nbformat": 4,
 "nbformat_minor": 2
}
