{
 "cells": [
  {
   "cell_type": "code",
   "execution_count": 1,
   "metadata": {},
   "outputs": [],
   "source": [
    "from scipy import ndimage, sparse\n",
    "from scipy.linalg import eigh, inv, logm, norm\n",
    "import scipy.sparse\n",
    "import numpy as np\n",
    "import matplotlib.pyplot as plt\n",
    "import sys\n",
    "import glob\n",
    "\n",
    "from IPython.display import clear_output"
   ]
  },
  {
   "cell_type": "code",
   "execution_count": 2,
   "metadata": {},
   "outputs": [],
   "source": [
    "def edges_rescaling(edges,scale): # edges are mat.data where mat is a sparse scipy matrix\n",
    "    edges = np.log10(edges) # log rescale weights because they vary over many decades\n",
    "    edges -= min(edges) # make them positive \n",
    "    edges /= max(edges)*1.0/scale # rescale from 0 to scale\n",
    "    return edges\n",
    "\n",
    "def build_omegaij(Kdata,Krow,Kcol,m):\n",
    "    omegaIJ_data = np.zeros(Kdata.shape)\n",
    "    omegaIJ_data = np.asfarray([Kdata[ind]*(1.0/m[Krow[ind]] + 1.0/m[Kcol[ind]]) for ind in range(omegaIJ_data.shape[0])])\n",
    "    omegaIJ = sparse.coo_matrix((omegaIJ_data, (Krow, Kcol)), shape=(Krow.max()+1,Kcol.max()+1))\n",
    "    return omegaIJ\n",
    "def build_omegai(K,m):\n",
    "    #0.5 to avoid double counting\n",
    "    omegaI = 0.5*np.divide(K.sum(axis=1),m.reshape((m.shape[0],1)))\n",
    "    return omegaI\n",
    "\n",
    "def remove_col(mat,index_to_drop): #csr\n",
    "    to_keep = list(set(range(mat.shape[1]))-set(index_to_drop))    \n",
    "    mat = mat[:,to_keep]\n",
    "    return mat\n",
    "def remove_row(mat,index_to_drop): #csc\n",
    "    to_keep = list(set(range(mat.shape[0]))-set(index_to_drop))    \n",
    "    mat = mat[to_keep,:]\n",
    "    return mat\n",
    "def remove_2nodes(mat,nodes):\n",
    "    mat = mat.tocoo()\n",
    "    todrop1 = np.logical_or((mat.row==nodes[0]),(mat.row==nodes[1])).nonzero()[0]\n",
    "    todrop2 = np.logical_or((mat.col==nodes[0]),(mat.col==nodes[1])).nonzero()[0]\n",
    "    todrop = list(set(np.concatenate((todrop1,todrop2))))\n",
    "    newdata=np.delete(mat.data,todrop)\n",
    "    newrow=np.delete(mat.row,todrop)\n",
    "    newcol=np.delete(mat.col,todrop)\n",
    "    return sparse.coo_matrix((newdata, (newrow, newcol)), shape=mat.shape)\n",
    "def remove_1node(mat,node):\n",
    "    mat = mat.tocoo()\n",
    "    todrop = np.logical_or((mat.row==node[0]),(mat.col==node[0])).nonzero()[0]\n",
    "    todrop = list(set(todrop))\n",
    "    newdata=np.delete(mat.data,todrop)\n",
    "    newrow=np.delete(mat.row,todrop)\n",
    "    newcol=np.delete(mat.col,todrop)\n",
    "    return sparse.coo_matrix((newdata, (newrow, newcol)), shape=mat.shape)\n",
    "def expand(Kdata,Krow,Kcol,omegaIJdata,omegaIJrow,omegaIJcol,idxs,m,g):\n",
    "    for idx in idxs:\n",
    "        newdata=K.data[idx]\n",
    "        j=K.col[idx]\n",
    "        Kdata,Krow,Kcol,omegaIJdata,omegaIJrow,omegaIJcol = expand1(Kdata,Krow,Kcol,omegaIJdata,omegaIJrow,omegaIJcol,newdata,m,g,j)\n",
    "    return Kdata,Krow,Kcol,omegaIJdata,omegaIJrow,omegaIJcol\n",
    "def expand1(Kdata,Krow,Kcol,omegaIJdata,omegaIJrow,omegaIJcol,newk,m,i,j):\n",
    "    Kdata = np.append(Kdata,newk)\n",
    "    Krow = np.append(Krow,i)\n",
    "    Kcol = np.append(Kcol,j)\n",
    "    omegaIJdata = np.append(omegaIJdata,newk*(1.0/m[i]+1.0/m[j]))\n",
    "    omegaIJrow = np.append(omegaIJrow,i)\n",
    "    omegaIJcol = np.append(omegaIJcol,j)\n",
    "    #add symmetric\n",
    "    Kdata = np.append(Kdata,newk)\n",
    "    Krow = np.append(Krow,j)\n",
    "    Kcol = np.append(Kcol,i)\n",
    "    omegaIJdata = np.append(omegaIJdata,newk*(1.0/m[i]+1.0/m[j]))\n",
    "    omegaIJrow = np.append(omegaIJrow,j)\n",
    "    omegaIJcol = np.append(omegaIJcol,i)\n",
    "    return Kdata,Krow,Kcol,omegaIJdata,omegaIJrow,omegaIJcol\n",
    "def delete_nodes(Kdata,Krow,Kcol,omegaIJdata,omegaIJrow,omegaIJcol,idxs): #this is not symm wrt to (i,j)\n",
    "    Kdata = np.delete(Kdata,idxs)\n",
    "    Krow = np.delete(Krow,idxs)\n",
    "    Kcol = np.delete(Kcol,idxs)\n",
    "    omegaIJdata = np.delete(omegaIJdata,idxs)\n",
    "    omegaIJrow = np.delete(omegaIJrow,idxs)\n",
    "    omegaIJcol = np.delete(omegaIJcol,idxs)\n",
    "    return Kdata,Krow,Kcol,omegaIJdata,omegaIJrow,omegaIJcol"
   ]
  },
  {
   "cell_type": "code",
   "execution_count": 15,
   "metadata": {},
   "outputs": [],
   "source": [
    "filename='/home/garner1/Work/pipelines/tissue2graph/npz/mat_XY_10nn.npz'\n",
    "data = np.load('/home/garner1/Work/pipelines/tissue2graph/npz/X-XY_data.npz',allow_pickle=True)\n",
    "\n",
    "K0 = -1.0*sparse.load_npz(filename) #minus\n",
    "\n",
    "# N = 10000\n",
    "# K = K0.copy()[:N,:N].tocoo()  #make a copy of the initial data\n",
    "# m = np.ones(K0.shape[0])[:N] #initial masses\n",
    "# pos = data['XY'][:N,:]\n",
    "\n",
    "K = K0.copy().tocoo()  #make a copy of the initial data\n",
    "m = np.ones(K0.shape[0]) #initial masses\n",
    "pos = data['XY']"
   ]
  },
  {
   "cell_type": "code",
   "execution_count": 16,
   "metadata": {},
   "outputs": [
    {
     "name": "stdout",
     "output_type": "stream",
     "text": [
      "(10513250,)\n",
      "(3800098,)\n"
     ]
    }
   ],
   "source": [
    "#initialize omegaIJ/I\n",
    "omegaIJ = build_omegaij(K.data,K.row,K.col,m)\n",
    "omegaI = build_omegai(K,m) \n",
    "\n",
    "# delete very small entries  \n",
    "# threshold = np.finfo(np.float).eps\n",
    "threshold = 5.0e-1\n",
    "\n",
    "idxs_todelete = np.where(np.abs(K.data) < threshold)[0]\n",
    "print(K.data.shape)\n",
    "K.data,K.row,K.col,omegaIJ.data,omegaIJ.row,omegaIJ.col = delete_nodes(K.data,K.row,K.col,omegaIJ.data,omegaIJ.row,omegaIJ.col,idxs_todelete)\n",
    "print(K.data.shape)"
   ]
  },
  {
   "cell_type": "code",
   "execution_count": 17,
   "metadata": {},
   "outputs": [],
   "source": [
    "import networkx as nx\n",
    "import seaborn as sns; sns.set()\n",
    "sns.set(style='white', rc={'figure.figsize':(50,50)})\n",
    "\n",
    "init_mat = sparse.coo_matrix((-1.0*K.data, (K.row, K.col)), shape=(K.row.max()+1, K.col.max()+1)) #minus\n",
    "\n",
    "G = nx.from_scipy_sparse_matrix(init_mat) # if sparse matrix\n",
    "eset = [(u, v) for (u, v, d) in G.edges(data=True)]\n",
    "weights = [d['weight'] for (u, v, d) in G.edges(data=True)]\n",
    "\n",
    "nx.draw_networkx_nodes(G, pos,alpha=0.0)\n",
    "nx.draw_networkx_edges(G, pos, edgelist=eset,alpha=1.0, width=weights,edge_color='r',style='solid')\n",
    "plt.axis('off')\n",
    "\n",
    "plt.savefig('./before_RG_minus.png',bbox_inches='tight')\n",
    "plt.close()\n",
    "\n",
    "# sns.set(style='white', rc={'figure.figsize':(10,10)})\n",
    "# sns.distplot(weights)"
   ]
  },
  {
   "cell_type": "code",
   "execution_count": null,
   "metadata": {
    "scrolled": true
   },
   "outputs": [
    {
     "name": "stdout",
     "output_type": "stream",
     "text": [
      "edge removal\n",
      "135 [-1.660959053652734, -1.0000647510895289] 1035860 3799522\n"
     ]
    }
   ],
   "source": [
    "%%time\n",
    "'''RG flow'''\n",
    "condition = True\n",
    "counter = 0\n",
    "# for count in range(10):\n",
    "while condition:\n",
    "    counter += 1\n",
    "    #Find max btw node and edges\n",
    "    IJmax_idx = np.where( omegaIJ.data==np.max(omegaIJ.data[np.nonzero(omegaIJ.data)]) )[0][0]\n",
    "    Imax_idx = np.where( omegaI==np.max(omegaI[np.nonzero(omegaI)]) )[0][0]\n",
    "    Imax = omegaI[Imax_idx][0,0]\n",
    "    IJmax = omegaIJ.data[IJmax_idx]\n",
    "    maxtype = np.argmax([Imax,IJmax])\n",
    "    condition = np.count_nonzero(omegaI) > 900000\n",
    "    clear_output()\n",
    "    if Imax>=IJmax:\n",
    "        print('node removal')\n",
    "        print(counter,[Imax,IJmax],np.count_nonzero(omegaI),omegaIJ.data.shape[0])\n",
    "    if Imax<IJmax:\n",
    "        print('edge removal')\n",
    "        print(counter,[Imax,IJmax],np.count_nonzero(omegaI),omegaIJ.data.shape[0])\n",
    "    if maxtype==1: #if edge\n",
    "        emax = omegaIJ.data.argmax() #idx of emax\n",
    "        i0 = K.row[emax];j0 = K.col[emax] #find max edge (i0,j0)  \n",
    "        m = np.append(m,m[i0]+m[j0]) #add a center of mass node\n",
    "        g = K.row.max()+1 # label the i0-j0 center of mass node\n",
    "        pos = np.vstack((pos,[0.5*(pos[i0,0]+pos[j0,0]),0.5*(pos[i0,1]+pos[j0,1])]))\n",
    "        idx_i0isrow = np.argwhere(K.row==i0) # idxs of (i0,j)\n",
    "        idx_i0iscol = np.argwhere(K.col==i0) # idxs of (j,i0)\n",
    "        idx_j0isrow = np.argwhere(K.row==j0) # idxs of (j0,i)\n",
    "        idx_j0iscol = np.argwhere(K.col==j0) # idxs of (i,j0)\n",
    "        js = np.setdiff1d([K.col[idx] for idx in np.union1d(idx_i0isrow,idx_j0isrow)],[i0,j0]) #nodes neighbours of i0 and j0\n",
    "        for j in  js:\n",
    "            idx_i0j = np.intersect1d(np.argwhere(K.row==i0),np.argwhere(K.col==j))\n",
    "            idx_j0j = np.intersect1d(np.argwhere(K.row==j0),np.argwhere(K.col==j))\n",
    "            newk = np.sum(np.append(K.data[idx_i0j],K.data[idx_j0j]))\n",
    "            K.data,K.row,K.col,omegaIJ.data,omegaIJ.row,omegaIJ.col = expand1(K.data,K.row,K.col,omegaIJ.data,omegaIJ.row,omegaIJ.col,newk,m,g,j)\n",
    "            #remove i0 and j0 from K, omegaIJ\n",
    "            K.data,K.row,K.col,omegaIJ.data,omegaIJ.row,omegaIJ.col = delete_nodes(K.data,K.row,K.col,omegaIJ.data,omegaIJ.row,omegaIJ.col,np.intersect1d(np.argwhere(K.row==i0),np.argwhere(K.col==j)))\n",
    "            K.data,K.row,K.col,omegaIJ.data,omegaIJ.row,omegaIJ.col = delete_nodes(K.data,K.row,K.col,omegaIJ.data,omegaIJ.row,omegaIJ.col,np.intersect1d(np.argwhere(K.row==j),np.argwhere(K.col==i0)))\n",
    "            K.data,K.row,K.col,omegaIJ.data,omegaIJ.row,omegaIJ.col = delete_nodes(K.data,K.row,K.col,omegaIJ.data,omegaIJ.row,omegaIJ.col,np.intersect1d(np.argwhere(K.row==j0),np.argwhere(K.col==j)))\n",
    "            K.data,K.row,K.col,omegaIJ.data,omegaIJ.row,omegaIJ.col = delete_nodes(K.data,K.row,K.col,omegaIJ.data,omegaIJ.row,omegaIJ.col,np.intersect1d(np.argwhere(K.row==j),np.argwhere(K.col==j0)))\n",
    "            #remove (i0,j0) from K, omegaIJ\n",
    "            K.data,K.row,K.col,omegaIJ.data,omegaIJ.row,omegaIJ.col = delete_nodes(K.data,K.row,K.col,omegaIJ.data,omegaIJ.row,omegaIJ.col,np.intersect1d(np.argwhere(K.row==i0),np.argwhere(K.col==j0)))\n",
    "            K.data,K.row,K.col,omegaIJ.data,omegaIJ.row,omegaIJ.col = delete_nodes(K.data,K.row,K.col,omegaIJ.data,omegaIJ.row,omegaIJ.col,np.intersect1d(np.argwhere(K.row==j0),np.argwhere(K.col==i0)))\n",
    "        #update omegaI\n",
    "        omegaI_g = np.array(sum([K.data[idx] for idx in np.argwhere(K.row==g)])*1.0/m[g]).reshape(1,1)\n",
    "        omegaI = np.append(omegaI,omegaI_g,0)\n",
    "        for j in js:\n",
    "            omegaI[j] = sum([K.data[idx] for idx in np.argwhere(K.row==j)])*1.0/m[j]\n",
    "        omegaI[i0] = 0.0; omegaI[j0] = 0.0\n",
    "        \n",
    "    if maxtype==0: #if node\n",
    "        i0 = omegaI.argmax(axis=None) #node of highest frequency\n",
    "        idx_i0isrow = np.argwhere(K.row==i0) # idxs of (i0,j)\n",
    "        idx_i0iscol = np.argwhere(K.col==i0) # idx of (i,i0)\n",
    "        js = np.unique(K.col[idx_i0isrow]) # nn j in (i0,j)\n",
    "        count = 0\n",
    "        for i in js:\n",
    "            for j in js[np.argwhere(js==i)[0][0]+1:]:\n",
    "                idx_ij = np.intersect1d(np.argwhere(K.row==i),np.argwhere(K.col==j))\n",
    "                idx_ji = np.intersect1d(np.argwhere(K.row==j),np.argwhere(K.col==i))\n",
    "                idx_ii0 = np.intersect1d(np.argwhere(K.row==i),np.argwhere(K.col==i0))    \n",
    "                idx_i0j = np.intersect1d(np.argwhere(K.row==i0),np.argwhere(K.col==j))\n",
    "#                 if idx_ij.shape[0]>0 and idx_ii0.shape[0]>0 and idx_i0j.shape[0]>0: # also if edge (i,j) exists\n",
    "                if idx_ii0.shape[0]>0 and idx_i0j.shape[0]>0: # only if edge (i,i0) and (i0,j) exists\n",
    "#minus here:\n",
    "                    newk = np.sum(np.append(K.data[idx_ij],-1.0*K.data[idx_ii0]*K.data[idx_i0j]/(omegaI[i0]*m[i0])))\n",
    "                    #update edge values\n",
    "                    K.data,K.row,K.col,omegaIJ.data,omegaIJ.row,omegaIJ.col = expand1(K.data,K.row,K.col,omegaIJ.data,omegaIJ.row,omegaIJ.col,newk,m,i,j)\n",
    "                    #remove old (i,j) and (j,i)\n",
    "                    K.data,K.row,K.col,omegaIJ.data,omegaIJ.row,omegaIJ.col = delete_nodes(K.data,K.row,K.col,omegaIJ.data,omegaIJ.row,omegaIJ.col,idx_ij)\n",
    "                    K.data,K.row,K.col,omegaIJ.data,omegaIJ.row,omegaIJ.col = delete_nodes(K.data,K.row,K.col,omegaIJ.data,omegaIJ.row,omegaIJ.col,idx_ji)\n",
    "        #remove i0 from K, omegaIJ\n",
    "        K.data,K.row,K.col,omegaIJ.data,omegaIJ.row,omegaIJ.col = delete_nodes(K.data,K.row,K.col,omegaIJ.data,omegaIJ.row,omegaIJ.col,np.argwhere(K.row==i0))\n",
    "        K.data,K.row,K.col,omegaIJ.data,omegaIJ.row,omegaIJ.col = delete_nodes(K.data,K.row,K.col,omegaIJ.data,omegaIJ.row,omegaIJ.col,np.argwhere(K.col==i0))\n",
    "        #update omegaI\n",
    "        for j in js:\n",
    "            omegaI[j] = sum([K.data[idx] for idx in np.argwhere(K.row==j)])*1.0/m[j]\n",
    "        #remove i0 omegaI\n",
    "        omegaI[i0] = 0.0"
   ]
  },
  {
   "cell_type": "code",
   "execution_count": 7,
   "metadata": {},
   "outputs": [],
   "source": [
    "#minus here:\n",
    "fixed_mat = sparse.coo_matrix((K.data, (K.row, K.col)), shape=(K.row.max()+1, K.col.max()+1))\n",
    "\n",
    "import networkx as nx\n",
    "import seaborn as sns; sns.set()\n",
    "sns.set(style='white', rc={'figure.figsize':(50,50)})\n",
    "G = nx.from_scipy_sparse_matrix(fixed_mat) # if sparse matrix\n",
    "eset = [(u, v) for (u, v, d) in G.edges(data=True)]\n",
    "weights = [d['weight'] for (u, v, d) in G.edges(data=True)]\n",
    "\n",
    "nx.draw_networkx_nodes(G, pos,alpha=0.0)\n",
    "nx.draw_networkx_edges(G, pos, edgelist=eset,alpha=1.0, width=weights,edge_color='r',style='solid')\n",
    "plt.axis('off')\n",
    "\n",
    "plt.savefig('./after_RG_minus.png',bbox_inches='tight')\n",
    "plt.close()\n"
   ]
  },
  {
   "cell_type": "code",
   "execution_count": 8,
   "metadata": {},
   "outputs": [
    {
     "data": {
      "text/plain": [
       "<matplotlib.axes._subplots.AxesSubplot at 0x7f9373e527b8>"
      ]
     },
     "execution_count": 8,
     "metadata": {},
     "output_type": "execute_result"
    },
    {
     "data": {
      "image/png": "[encoded data removed]",
      "text/plain": [
       "<Figure size 720x720 with 1 Axes>"
      ]
     },
     "metadata": {},
     "output_type": "display_data"
    }
   ],
   "source": [
    "sns.set(style='white', rc={'figure.figsize':(10,10)})\n",
    "sns.distplot(weights)"
   ]
  },
  {
   "cell_type": "code",
   "execution_count": null,
   "metadata": {},
   "outputs": [],
   "source": []
  }
 ],
 "metadata": {
  "kernelspec": {
   "display_name": "Python 3",
   "language": "python",
   "name": "python3"
  },
  "language_info": {
   "codemirror_mode": {
    "name": "ipython",
    "version": 3
   },
   "file_extension": ".py",
   "mimetype": "text/x-python",
   "name": "python",
   "nbconvert_exporter": "python",
   "pygments_lexer": "ipython3",
   "version": "3.7.3"
  }
 },
 "nbformat": 4,
 "nbformat_minor": 2
}
