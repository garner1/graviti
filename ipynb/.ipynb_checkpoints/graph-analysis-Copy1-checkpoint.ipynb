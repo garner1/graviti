{
 "cells": [
  {
   "cell_type": "code",
   "execution_count": null,
   "metadata": {},
   "outputs": [],
   "source": [
    "from scipy import ndimage, sparse\n",
    "from scipy.linalg import eigh, inv, logm, norm\n",
    "import scipy.sparse\n",
    "import numpy as np\n",
    "import matplotlib.pyplot as plt\n",
    "import sys\n",
    "import glob\n",
    "\n",
    "import networkx as nx\n",
    "import seaborn as sns; sns.set()"
   ]
  },
  {
   "cell_type": "code",
   "execution_count": null,
   "metadata": {},
   "outputs": [],
   "source": [
    "def edges_rescaling(edges,scale): # edges are mat.data where mat is a sparse scipy matrix\n",
    "    edges = np.log10(edges) # log rescale weights because they vary over many decades\n",
    "    edges -= min(edges) # make them positive \n",
    "    edges /= max(edges)*1.0/scale # rescale from 0 to scale\n",
    "    return edges"
   ]
  },
  {
   "cell_type": "code",
   "execution_count": null,
   "metadata": {},
   "outputs": [],
   "source": [
    "mat_X = sparse.load_npz('/home/garner1/Work/pipelines/tissue2graph/npz/mat_X_nn19.npz')\n",
    "mat_XY = sparse.load_npz('/home/garner1/Work/pipelines/tissue2graph/npz/mat_XY_nn19.npz')"
   ]
  },
  {
   "cell_type": "code",
   "execution_count": null,
   "metadata": {},
   "outputs": [],
   "source": [
    "data = np.load('/home/garner1/Work/pipelines/tissue2graph/npz/X-XY_data.npz',allow_pickle=True)\n",
    "X = data['X']\n",
    "XY = data['XY']"
   ]
  },
  {
   "cell_type": "code",
   "execution_count": null,
   "metadata": {},
   "outputs": [],
   "source": [
    "G = nx.from_scipy_sparse_matrix(mat_X) # if sparse matrix\n",
    "eset = [(u, v) for (u, v, d) in G.edges(data=True)]\n",
    "weights = [d['weight'] for (u, v, d) in G.edges(data=True)]\n",
    "pos = XY"
   ]
  },
  {
   "cell_type": "code",
   "execution_count": null,
   "metadata": {},
   "outputs": [],
   "source": [
    "nx.draw_networkx_nodes(G, pos,alpha=0.0)\n",
    "nx.draw_networkx_edges(G, pos, edgelist=eset,alpha=1.0, width=weights,edge_color='r',style='solid')\n",
    "plt.axis('off')\n",
    "# plt.savefig(str(img_id)+'graph_only.png',bbox_inches='tight')\n",
    "# plt.close()"
   ]
  },
  {
   "cell_type": "code",
   "execution_count": null,
   "metadata": {},
   "outputs": [],
   "source": [
    "from IPython.display import clear_output\n",
    "\n",
    "nx.draw_networkx_nodes(G, pos,alpha=0.0)\n",
    "ind=0\n",
    "for edge in eset:\n",
    "    clear_output(wait=True)\n",
    "    print(str(ind)+'of'+str(len(eset)))\n",
    "    edgepos={edge[0]: (pos[edge[0],0],pos[edge[0],1]), edge[1]: (pos[edge[1],0],pos[edge[1],1])}\n",
    "    G.add_nodes_from(edgepos.keys())\n",
    "    for n, p in edgepos.items():\n",
    "        G.nodes[n]['pos'] = p\n",
    "    nx.draw_networkx_edges(G, pos,alpha=weights[ind],width=1.0,edge_color='r',style='solid')\n",
    "    ind+=1\n",
    "plt.axis('off')\n",
    "plt.savefig(\"./test.png\") # save as png"
   ]
  }
 ],
 "metadata": {
  "kernelspec": {
   "display_name": "Python 3",
   "language": "python",
   "name": "python3"
  },
  "language_info": {
   "codemirror_mode": {
    "name": "ipython",
    "version": 3
   },
   "file_extension": ".py",
   "mimetype": "text/x-python",
   "name": "python",
   "nbconvert_exporter": "python",
   "pygments_lexer": "ipython3",
   "version": "3.7.3"
  }
 },
 "nbformat": 4,
 "nbformat_minor": 2
}
