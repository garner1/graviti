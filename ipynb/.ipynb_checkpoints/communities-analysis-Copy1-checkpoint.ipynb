{
 "cells": [
  {
   "cell_type": "code",
   "execution_count": 1,
   "metadata": {
    "colab": {},
    "colab_type": "code",
    "id": "AXZreggKys3i"
   },
   "outputs": [],
   "source": [
    "import warnings\n",
    "warnings.filterwarnings('ignore')\n",
    "\n",
    "import cdlib\n",
    "\n",
    "from cdlib import algorithms\n",
    "\n",
    "import matplotlib.pyplot as plt\n",
    "from cdlib.utils import convert_graph_formats\n",
    "\n",
    "from cdlib import viz\n",
    "\n",
    "import networkx as nx\n",
    "from  scipy import sparse\n",
    "import numpy as np"
   ]
  },
  {
   "cell_type": "code",
   "execution_count": 2,
   "metadata": {},
   "outputs": [],
   "source": [
    "def get_cmap(n, name='hsv'):\n",
    "    '''Returns a function that maps each index in 0, 1, ..., n-1 to a distinct \n",
    "    RGB color; the keyword argument name must be a standard mpl colormap name.'''\n",
    "    return plt.cm.get_cmap(name, n)\n",
    "\n",
    "def viz_network_clusters(graph, partition, position, figname,min_cell_numb=10000,figsize=(50, 50), node_size=1, plot_overlaps=False,\n",
    "                          plot_labels=False):\n",
    "    \"\"\"\n",
    "    Plot a graph with node color coding for communities.\n",
    "    :param graph: NetworkX/igraph graph\n",
    "    :param partition: NodeClustering object\n",
    "    :param position: A dictionary with nodes as keys and positions as values. Example: networkx.fruchterman_reingold_layout(G)\n",
    "    :param figsize: the figure size; it is a pair of float, default (50, 50)\n",
    "    :param node_size: int, default 1\n",
    "    :param plot_overlaps: bool, default False. Flag to control if multiple algorithms memberships are plotted.\n",
    "    :param plot_labels: bool, default False. Flag to control if node labels are plotted.\n",
    "    Example:\n",
    "    >>> from cdlib import algorithms, viz\n",
    "    >>> import networkx as nx\n",
    "    >>> g = nx.karate_club_graph()\n",
    "    >>> coms = algorithms.louvain(g)\n",
    "    >>> pos = nx.spring_layout(g)\n",
    "    >>> viz.plot_network_clusters(g, coms, pos)\n",
    "    \"\"\"\n",
    "    partition = partition.communities\n",
    "    graph = convert_graph_formats(graph, nx.Graph)\n",
    "\n",
    "    n_communities = np.count_nonzero([len(c)>min_cell_numb for c in partition])\n",
    "#     n_communities = len(partition)\n",
    "    cmap = get_cmap(n_communities)\n",
    "    \n",
    "    plt.figure(figsize=figsize)\n",
    "    plt.axis('off')\n",
    "\n",
    "    for i in range(n_communities):\n",
    "        if len(partition[i]) > min_cell_numb:\n",
    "            COLOR = [cmap(i) for count in range(len(partition[i]))]\n",
    "            if plot_overlaps:\n",
    "                size = (n_communities - i) * node_size\n",
    "            else:\n",
    "                size = node_size\n",
    "            fig = nx.draw_networkx_nodes(graph, position, node_size=size,\n",
    "                                         nodelist=partition[i], node_color=COLOR)\n",
    "        \n",
    "    if plot_labels:\n",
    "        nx.draw_networkx_labels(graph, position, labels={node: str(node) for node in graph.nodes()})\n",
    "\n",
    "    plt.savefig(figname+'.tif',bbox_inches='tight',format='tiff')\n",
    "    plt.close()\n",
    "\n",
    "    return fig\n",
    "def viz_network_single_clusters(graph, partition, position, figname,min_cell_numb=10000,figsize=(50, 50), node_size=1, plot_overlaps=False,\n",
    "                          plot_labels=False):\n",
    "    \"\"\"\n",
    "    Plot a graph with node color coding for communities.\n",
    "    :param graph: NetworkX/igraph graph\n",
    "    :param partition: NodeClustering object\n",
    "    :param position: A dictionary with nodes as keys and positions as values. Example: networkx.fruchterman_reingold_layout(G)\n",
    "    :param figsize: the figure size; it is a pair of float, default (50, 50)\n",
    "    :param node_size: int, default 1\n",
    "    :param plot_overlaps: bool, default False. Flag to control if multiple algorithms memberships are plotted.\n",
    "    :param plot_labels: bool, default False. Flag to control if node labels are plotted.\n",
    "    Example:\n",
    "    >>> from cdlib import algorithms, viz\n",
    "    >>> import networkx as nx\n",
    "    >>> g = nx.karate_club_graph()\n",
    "    >>> coms = algorithms.louvain(g)\n",
    "    >>> pos = nx.spring_layout(g)\n",
    "    >>> viz.plot_network_clusters(g, coms, pos)\n",
    "    \"\"\"\n",
    "    partition = partition.communities\n",
    "    graph = convert_graph_formats(graph, nx.Graph)\n",
    "    \n",
    "    n_communities = np.count_nonzero([len(c)>min_cell_numb for c in partition])\n",
    "#     n_communities = len(partition)\n",
    "    cmap = get_cmap(n_communities)\n",
    "    \n",
    "    for i in range(n_communities):\n",
    "        if len(partition[i]) > min_cell_numb:\n",
    "            plt.figure(figsize=figsize)\n",
    "            plt.axis('off')\n",
    "            COLOR = [cmap(i) for count in range(len(partition[i]))]\n",
    "            if plot_overlaps:\n",
    "                size = (n_communities - i) * node_size\n",
    "            else:\n",
    "                size = node_size\n",
    "            fig = nx.draw_networkx_nodes(graph, position, node_size=size,\n",
    "                                         nodelist=partition[i], node_color=COLOR)\n",
    "        plt.savefig(figname+str(i)+'.tif',bbox_inches='tight',format='tiff')\n",
    "        plt.close()\n",
    "\n",
    "    if plot_labels:\n",
    "        nx.draw_networkx_labels(graph, position, labels={node: str(node) for node in graph.nodes()})\n",
    "\n",
    "    return fig"
   ]
  },
  {
   "cell_type": "code",
   "execution_count": 3,
   "metadata": {
    "colab": {},
    "colab_type": "code",
    "id": "iSZEFIAbys3_"
   },
   "outputs": [],
   "source": [
    "mat_XY = sparse.load_npz('/home/garner1/Work/pipelines/tissue2graph/npz/covd_mat_XY_nn19.npz')\n",
    "mat_X = sparse.load_npz('/home/garner1/Work/pipelines/tissue2graph/npz/covd_mat_X_nn19.npz')\n",
    "pos = np.load('/home/garner1/Work/pipelines/tissue2graph/npz/covd_X-XY_data.npz',allow_pickle=True)['XY']"
   ]
  },
  {
   "cell_type": "code",
   "execution_count": 4,
   "metadata": {
    "colab": {},
    "colab_type": "code",
    "id": "iSZEFIAbys3_"
   },
   "outputs": [],
   "source": [
    "g1 = nx.from_scipy_sparse_matrix(mat_XY)\n",
    "eset1 = [(u, v) for (u, v, d) in g1.edges(data=True)]\n",
    "weights1 = [d['weight'] for (u, v, d) in g1.edges(data=True)]"
   ]
  },
  {
   "cell_type": "code",
   "execution_count": 5,
   "metadata": {
    "colab": {},
    "colab_type": "code",
    "id": "iSZEFIAbys3_"
   },
   "outputs": [],
   "source": [
    "g2 = nx.from_scipy_sparse_matrix(mat_X) # if sparse matrix\n",
    "eset2 = [(u, v) for (u, v, d) in g2.edges(data=True)]\n",
    "weights2 = [d['weight'] for (u, v, d) in g2.edges(data=True)]"
   ]
  },
  {
   "cell_type": "code",
   "execution_count": 5,
   "metadata": {},
   "outputs": [],
   "source": [
    "mat = mat_XY+mat_X\n",
    "g = nx.from_scipy_sparse_matrix(mat) # if sparse matrix\n",
    "eset = [(u, v) for (u, v, d) in g.edges(data=True)]\n",
    "weights = [d['weight'] for (u, v, d) in g.edges(data=True)]"
   ]
  },
  {
   "cell_type": "code",
   "execution_count": 5,
   "metadata": {
    "colab": {
     "base_uri": "https://localhost:8080/",
     "height": 418
    },
    "colab_type": "code",
    "id": "JeM9bbqzys4Q",
    "outputId": "6b94bce0-6cb5-499a-83e7-21d7d4fe92f7"
   },
   "outputs": [],
   "source": [
    "leiden_coms1 = algorithms.leiden(g1,weights=weights1)"
   ]
  },
  {
   "cell_type": "code",
   "execution_count": 7,
   "metadata": {},
   "outputs": [
    {
     "data": {
      "text/plain": [
       "<matplotlib.collections.PathCollection at 0x7f77178e0630>"
      ]
     },
     "execution_count": 7,
     "metadata": {},
     "output_type": "execute_result"
    }
   ],
   "source": [
    "viz_network_clusters(g1, leiden_coms1, pos,'./covd_spatial_partition',min_cell_numb=1)"
   ]
  },
  {
   "cell_type": "code",
   "execution_count": 6,
   "metadata": {},
   "outputs": [
    {
     "ename": "NameError",
     "evalue": "name 'g' is not defined",
     "output_type": "error",
     "traceback": [
      "\u001b[0;31m---------------------------------------------------------------------------\u001b[0m",
      "\u001b[0;31mNameError\u001b[0m                                 Traceback (most recent call last)",
      "\u001b[0;32m<ipython-input-6-a7bad3f79227>\u001b[0m in \u001b[0;36m<module>\u001b[0;34m\u001b[0m\n\u001b[0;32m----> 1\u001b[0;31m \u001b[0mviz_network_single_clusters\u001b[0m\u001b[0;34m(\u001b[0m\u001b[0mg\u001b[0m\u001b[0;34m,\u001b[0m \u001b[0mleiden_coms\u001b[0m\u001b[0;34m,\u001b[0m \u001b[0mpos\u001b[0m\u001b[0;34m,\u001b[0m\u001b[0;34m'./covd_spatial_partition'\u001b[0m\u001b[0;34m,\u001b[0m\u001b[0mmin_cell_numb\u001b[0m\u001b[0;34m=\u001b[0m\u001b[0;36m1\u001b[0m\u001b[0;34m)\u001b[0m\u001b[0;34m\u001b[0m\u001b[0;34m\u001b[0m\u001b[0m\n\u001b[0m",
      "\u001b[0;31mNameError\u001b[0m: name 'g' is not defined"
     ]
    }
   ],
   "source": [
    "viz_network_single_clusters(g, leiden_coms, pos,'./covd_spatial_partition',min_cell_numb=1)"
   ]
  },
  {
   "cell_type": "code",
   "execution_count": 11,
   "metadata": {},
   "outputs": [],
   "source": [
    "import pickle\n",
    "pkl_file=open('communities.txt','wb')\n",
    "pickle.dump(leiden_coms1.communities,pkl_file)"
   ]
  }
 ],
 "metadata": {
  "colab": {
   "name": "CDlib.ipynb",
   "provenance": []
  },
  "kernelspec": {
   "display_name": "Python 3",
   "language": "python",
   "name": "python3"
  },
  "language_info": {
   "codemirror_mode": {
    "name": "ipython",
    "version": 3
   },
   "file_extension": ".py",
   "mimetype": "text/x-python",
   "name": "python",
   "nbconvert_exporter": "python",
   "pygments_lexer": "ipython3",
   "version": "3.7.3"
  }
 },
 "nbformat": 4,
 "nbformat_minor": 1
}
