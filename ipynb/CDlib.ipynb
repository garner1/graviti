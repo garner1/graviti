{
 "cells": [
  {
   "cell_type": "markdown",
   "metadata": {
    "colab_type": "text",
    "id": "9U79_1kfys3f"
   },
   "source": [
    "<span>\n",
    "<img src=\"https://cdlib.readthedocs.io/en/latest/_static/cdlogo.png\" width=\"260px\" align=\"right\"/>\n",
    "</span>\n",
    "<span>\n",
    "<b>Author:</b> <a href=\"http://about.giuliorossetti.net\">Giulio Rossetti</a><br/>\n",
    "<b>Python version:</b>  3.7<br/>\n",
    "<b>NDlib version:</b>  0.1.2<br/>\n",
    "<b>Last update:</b> 6/03/2019\n",
    "</span>"
   ]
  },
  {
   "cell_type": "code",
   "execution_count": 1,
   "metadata": {
    "colab": {},
    "colab_type": "code",
    "id": "AXZreggKys3i"
   },
   "outputs": [],
   "source": [
    "import warnings\n",
    "warnings.filterwarnings('ignore')"
   ]
  },
  {
   "cell_type": "markdown",
   "metadata": {
    "colab_type": "text",
    "id": "mjzTzF_iys3n"
   },
   "source": [
    "<a id='top'></a>\n",
    "# *Intro to CDlib: Community Discovery library*\n",
    "\n",
    "``CDlib`` is a python library designed to provide support the extraction and analysis of network clusterings.\n",
    "\n",
    "In this notebook are introduced some of the main features of the library and an overview of its functionalities.\n",
    "\n",
    "**Note:** this notebook is purposely not 100% comprehensive, it only discusses the basic things you need to get started. For all the details, algorithm/methods/evaluation facilities available, please refer to the official [documentation](https://cdlib.readthedocs.io)."
   ]
  },
  {
   "cell_type": "markdown",
   "metadata": {
    "colab_type": "text",
    "id": "Nvuig281ys3p"
   },
   "source": [
    "## Table of Contents\n",
    "\n",
    "1. [Installing CDlib](#install)\n",
    "2. [Community Discovery Workflow](#workflow)\n",
    "    1. [Graph Creation](#graph)\n",
    "    2. [Community Discovery algorithm(s) selection and configuration ](#model)\n",
    "    3. [Clustering Evaluation (Fitness functions)](#fitness)\n",
    "    4. [Clustering Evaluation (Comparison)](#comparison)\n",
    "    5. [Community/Statistics Visualization](#visualization)\n",
    "3. [Advanced facilities: Pooling and Optimization](#advanced)\n",
    "    1. [Pooling](#pooling)\n",
    "    2. [Optimization](#optimization)\n",
    "4. [Conclusions](#conclusion)"
   ]
  },
  {
   "cell_type": "markdown",
   "metadata": {
    "colab_type": "text",
    "id": "zNnqRMWgys3q"
   },
   "source": [
    "<a id='install'></a>\n",
    "## 1. Installing CDlib ([to top](#top))"
   ]
  },
  {
   "cell_type": "markdown",
   "metadata": {
    "colab_type": "text",
    "id": "8UpArUw8ys3s"
   },
   "source": [
    "As a first step, we need to make sure that ``CDlib`` is installed and working.\n",
    "\n",
    "The library is available for python 3.7, and its stable version can be installed using ``pip``:"
   ]
  },
  {
   "cell_type": "markdown",
   "metadata": {
    "colab_type": "text",
    "id": "DGCKJEN1ys3t"
   },
   "source": [
    "    !pip install cdlib"
   ]
  },
  {
   "cell_type": "markdown",
   "metadata": {
    "colab_type": "text",
    "id": "lXx3FH2Pys3u"
   },
   "source": [
    "On the project [GitHub](https://github.com/GiulioRossetti/cdlib) are also available the nightly builds that can be installed as follows:"
   ]
  },
  {
   "cell_type": "markdown",
   "metadata": {
    "colab_type": "text",
    "id": "ZpI_UpUNys3w"
   },
   "source": [
    "    pip install git+https://github.com/GiulioRossetti/ndlib.git > /dev/null"
   ]
  },
  {
   "cell_type": "markdown",
   "metadata": {
    "colab_type": "text",
    "id": "9BKBI2Yfys3x"
   },
   "source": [
    "In order to check if ``cdlib`` has been correctly installed just try to import it"
   ]
  },
  {
   "cell_type": "code",
   "execution_count": 2,
   "metadata": {
    "colab": {},
    "colab_type": "code",
    "id": "DjU5mSCxys3y"
   },
   "outputs": [],
   "source": [
    "import cdlib"
   ]
  },
  {
   "cell_type": "markdown",
   "metadata": {
    "colab_type": "text",
    "id": "8TtJfN7Eys33"
   },
   "source": [
    "<a id='workflow'></a>\n",
    "## 2. Community Discovery Workflow ([to top](#top))\n",
    "\n",
    "``CDlib`` allows to extract, analyze and compare network clustering applying several approaches.\n",
    "The standard workflow can be summarized as:\n",
    "- Network Creation\n",
    "- Community Discovery algorithm(s) selection and configuration\n",
    "- Clustering(s) evaluation (Fitness functions)\n",
    "- Clustering(s) evaluation (Comparisons)\n",
    "- Community/Statistics Visualization\n",
    "\n",
    "In this section we will observe how to templating such workflow applying two classic network clustering algorithms: Label Propagation and Leiden."
   ]
  },
  {
   "cell_type": "markdown",
   "metadata": {
    "colab_type": "text",
    "id": "6LZOCH9fys34"
   },
   "source": [
    "<a id=\"graph\"></a>\n",
    "### 2.A Graph object creation ([to top](#top))"
   ]
  },
  {
   "cell_type": "markdown",
   "metadata": {
    "colab_type": "text",
    "id": "6L45bRtjys38"
   },
   "source": [
    "As a first step we need to define the network topology that will be used as playground to study diffusive phenomena.\n",
    "\n",
    "``CDlib`` natively supports both [``networkx``](https://networkx.github.io) and [``igraph``](https://igraph.org/python/) data structures.\n",
    "\n",
    "In our examples, for the sake of simplicity, we will use ``networkx`` undirected graphs. "
   ]
  },
  {
   "cell_type": "code",
   "execution_count": 3,
   "metadata": {
    "colab": {},
    "colab_type": "code",
    "id": "iSZEFIAbys3_"
   },
   "outputs": [],
   "source": [
    "import networkx as nx\n",
    "\n",
    "g = nx.karate_club_graph()"
   ]
  },
  {
   "cell_type": "markdown",
   "metadata": {
    "colab_type": "text",
    "id": "ZFtNZy05ys4E"
   },
   "source": [
    "<a id=\"model\"></a>\n",
    "### 2.B Community Discovery algorithm(s) selection and configuration ([to top](#top))\n",
    "\n",
    "After having defined the graph, we can select the algorithm(s) to partition it."
   ]
  },
  {
   "cell_type": "code",
   "execution_count": 4,
   "metadata": {
    "colab": {},
    "colab_type": "code",
    "id": "e7wNpHxuys4G"
   },
   "outputs": [],
   "source": [
    "from cdlib import algorithms"
   ]
  },
  {
   "cell_type": "code",
   "execution_count": 5,
   "metadata": {},
   "outputs": [],
   "source": [
    "import leidenalg"
   ]
  },
  {
   "cell_type": "code",
   "execution_count": 6,
   "metadata": {
    "colab": {},
    "colab_type": "code",
    "id": "mavUpjt2ys4L"
   },
   "outputs": [],
   "source": [
    "lp_coms = algorithms.label_propagation(g)"
   ]
  },
  {
   "cell_type": "code",
   "execution_count": 7,
   "metadata": {
    "colab": {
     "base_uri": "https://localhost:8080/",
     "height": 418
    },
    "colab_type": "code",
    "id": "JeM9bbqzys4Q",
    "outputId": "6b94bce0-6cb5-499a-83e7-21d7d4fe92f7"
   },
   "outputs": [],
   "source": [
    "leiden_coms = algorithms.leiden(g)\n",
    "# leiden_coms = leidenalg.find_partition(g, leidenalg.ModularityVertexPartition);"
   ]
  },
  {
   "cell_type": "markdown",
   "metadata": {
    "colab_type": "text",
    "id": "pQ9OO4IGys4r"
   },
   "source": [
    "All Community Discovery algorithms generate as result an object that implements a concrete instance of the ``Clustering`` datatype.\n",
    "\n",
    "In particular, both Louvain and Label Propagation returns a ``NodeClustering`` object having the following propterties:"
   ]
  },
  {
   "cell_type": "code",
   "execution_count": 8,
   "metadata": {
    "colab": {},
    "colab_type": "code",
    "id": "GhXKSZ1Eys4t",
    "outputId": "05123f97-9ec8-4cb6-94ca-7c94c36f56b6"
   },
   "outputs": [
    {
     "data": {
      "text/plain": [
       "'Leiden'"
      ]
     },
     "execution_count": 8,
     "metadata": {},
     "output_type": "execute_result"
    }
   ],
   "source": [
    "leiden_coms.method_name # Clustering algorithm name"
   ]
  },
  {
   "cell_type": "code",
   "execution_count": 9,
   "metadata": {
    "colab": {},
    "colab_type": "code",
    "id": "72N83jKPys4z",
    "outputId": "e93788bd-a3f9-453e-d14d-22c5ef06d036"
   },
   "outputs": [
    {
     "data": {
      "text/plain": [
       "{'initial_membership': None, 'weights': None}"
      ]
     },
     "execution_count": 9,
     "metadata": {},
     "output_type": "execute_result"
    }
   ],
   "source": [
    "leiden_coms.method_parameters # Clustering parameters"
   ]
  },
  {
   "cell_type": "code",
   "execution_count": 10,
   "metadata": {
    "colab": {},
    "colab_type": "code",
    "id": "gKJw2u0rys42",
    "outputId": "24e3d175-a803-433b-f75a-2901ae950f3b"
   },
   "outputs": [
    {
     "data": {
      "text/plain": [
       "[[0, 1, 2, 3, 7, 9, 11, 12, 13, 17, 19, 21],\n",
       " [8, 14, 15, 18, 20, 22, 26, 29, 30, 32, 33],\n",
       " [23, 24, 25, 27, 28, 31],\n",
       " [4, 5, 6, 10, 16]]"
      ]
     },
     "execution_count": 10,
     "metadata": {},
     "output_type": "execute_result"
    }
   ],
   "source": [
    "leiden_coms.communities # Identified Clustering"
   ]
  },
  {
   "cell_type": "code",
   "execution_count": 11,
   "metadata": {
    "colab": {},
    "colab_type": "code",
    "id": "Pf0cum9mys46",
    "outputId": "919c03bd-50ad-4199-f1fb-0b0d3af22173"
   },
   "outputs": [
    {
     "data": {
      "text/plain": [
       "False"
      ]
     },
     "execution_count": 11,
     "metadata": {},
     "output_type": "execute_result"
    }
   ],
   "source": [
    "leiden_coms.overlap # Wehter the clustering is overlapping or not"
   ]
  },
  {
   "cell_type": "code",
   "execution_count": 12,
   "metadata": {
    "colab": {},
    "colab_type": "code",
    "id": "IPBj_X7jys48",
    "outputId": "9834defb-739e-4a31-e0c8-dedb27c2491f"
   },
   "outputs": [
    {
     "data": {
      "text/plain": [
       "1.0"
      ]
     },
     "execution_count": 12,
     "metadata": {},
     "output_type": "execute_result"
    }
   ],
   "source": [
    "leiden_coms.node_coverage # Percentage of nodes covered by the clustering"
   ]
  },
  {
   "cell_type": "markdown",
   "metadata": {
    "colab_type": "text",
    "id": "z0tXK_Qhys4_"
   },
   "source": [
    "Moreover, ``Clustering`` object allow also for the generation of a JSON representation of the results"
   ]
  },
  {
   "cell_type": "code",
   "execution_count": 13,
   "metadata": {
    "colab": {},
    "colab_type": "code",
    "id": "LaCrZkh3ys5A",
    "outputId": "025036de-d94b-4512-91c9-8f8333c7bfab"
   },
   "outputs": [
    {
     "data": {
      "text/plain": [
       "'{\"communities\": [[0, 1, 2, 3, 7, 9, 11, 12, 13, 17, 19, 21], [8, 14, 15, 18, 20, 22, 26, 29, 30, 32, 33], [23, 24, 25, 27, 28, 31], [4, 5, 6, 10, 16]], \"algorithm\": \"Leiden\", \"params\": {\"initial_membership\": null, \"weights\": null}, \"overlap\": false, \"coverage\": 1.0}'"
      ]
     },
     "execution_count": 13,
     "metadata": {},
     "output_type": "execute_result"
    }
   ],
   "source": [
    "leiden_coms.to_json()"
   ]
  },
  {
   "cell_type": "markdown",
   "metadata": {
    "colab_type": "text",
    "id": "pSyz--9gys5D"
   },
   "source": [
    "<a id=\"fitness\"></a>\n",
    "### 2.C Clustering Evaluation (Fitness functions) ([to top](#top))\n",
    "\n",
    "After having obtained a network clustering we can compute several indexes upon it. \n",
    "\n",
    "For a same index it is possible to obtain a synthetic representation of its min/max/mean/std values"
   ]
  },
  {
   "cell_type": "code",
   "execution_count": 14,
   "metadata": {
    "colab": {},
    "colab_type": "code",
    "id": "KrG1COYQys5E",
    "outputId": "0c18ef99-b601-462b-c53e-ca32d5460e73"
   },
   "outputs": [
    {
     "name": "stdout",
     "output_type": "stream",
     "text": [
      "<class 'networkx.classes.graph.Graph'>\n"
     ]
    },
    {
     "data": {
      "text/plain": [
       "FitnessResult(min=2.3333333333333335, max=4.0, score=3.0924242424242427, std=0.7374337529194765)"
      ]
     },
     "execution_count": 14,
     "metadata": {},
     "output_type": "execute_result"
    }
   ],
   "source": [
    "leiden_coms.average_internal_degree()"
   ]
  },
  {
   "cell_type": "markdown",
   "metadata": {
    "colab_type": "text",
    "id": "UFI5OD35ys5H"
   },
   "source": [
    "as well as its communitiy-wise value"
   ]
  },
  {
   "cell_type": "code",
   "execution_count": 15,
   "metadata": {
    "colab": {},
    "colab_type": "code",
    "id": "cPaTqUuUys5H",
    "outputId": "52969586-6f66-4e10-eaa6-3f1ff1ca9a49"
   },
   "outputs": [
    {
     "name": "stdout",
     "output_type": "stream",
     "text": [
      "<class 'networkx.classes.graph.Graph'>\n"
     ]
    },
    {
     "data": {
      "text/plain": [
       "[4.0, 3.6363636363636362, 2.3333333333333335, 2.4]"
      ]
     },
     "execution_count": 15,
     "metadata": {},
     "output_type": "execute_result"
    }
   ],
   "source": [
    "leiden_coms.average_internal_degree(summary=False)"
   ]
  },
  {
   "cell_type": "markdown",
   "metadata": {
    "colab_type": "text",
    "id": "LRTHm6Neys5K"
   },
   "source": [
    "Fitness scores can also be instantiated at library level"
   ]
  },
  {
   "cell_type": "code",
   "execution_count": 16,
   "metadata": {
    "colab": {},
    "colab_type": "code",
    "id": "CEyO7ikyys5L",
    "outputId": "6348f3ed-cec2-4f41-892e-a34739cec2d4"
   },
   "outputs": [
    {
     "data": {
      "text/plain": [
       "FitnessResult(min=2.3333333333333335, max=4.0, score=3.0924242424242427, std=0.7374337529194765)"
      ]
     },
     "execution_count": 16,
     "metadata": {},
     "output_type": "execute_result"
    }
   ],
   "source": [
    "from cdlib import evaluation\n",
    "\n",
    "evaluation.average_internal_degree(g, leiden_coms)"
   ]
  },
  {
   "cell_type": "markdown",
   "metadata": {
    "colab_type": "text",
    "id": "ido2Z_X1ys5P"
   },
   "source": [
    "For the complete list of implemented fitness functions, refer to the online [documentation](https://cdlib.readthedocs.io/en/latest/reference/evaluation.html)."
   ]
  },
  {
   "cell_type": "markdown",
   "metadata": {
    "colab_type": "text",
    "id": "S8nss-Dhys5R"
   },
   "source": [
    "<a id=\"comparison\"></a>\n",
    "### 2.D Clustering Evaluation (Comparison) ([to top](#top))\n",
    "\n",
    "When multiple clustering have been computed on a same network it is useful to measure their resemblance.\n",
    "\n",
    "``CDlib`` allows to do so by exposing several clustering resemblance scores, each one of them tailored to support specific kind of network clusterings (crisp/partition, complete/partial node coverage).\n",
    "\n",
    "As for the fitness functions, resemblance scores can be instantiated at the community level as well as at the library level."
   ]
  },
  {
   "cell_type": "code",
   "execution_count": 17,
   "metadata": {
    "colab": {},
    "colab_type": "code",
    "id": "DqXgy-5eys5S",
    "outputId": "955f1a78-6fb4-45b8-febd-b71366c1fd2d"
   },
   "outputs": [
    {
     "data": {
      "text/plain": [
       "MatchingResult(score=0.49596080231545037, std=None)"
      ]
     },
     "execution_count": 17,
     "metadata": {},
     "output_type": "execute_result"
    }
   ],
   "source": [
    "leiden_coms.normalized_mutual_information(lp_coms)"
   ]
  },
  {
   "cell_type": "code",
   "execution_count": 18,
   "metadata": {
    "colab": {},
    "colab_type": "code",
    "id": "FedQ4r6jys5W",
    "outputId": "7a3ceea6-2bc7-4b52-dade-9234103ce3a3"
   },
   "outputs": [
    {
     "data": {
      "text/plain": [
       "MatchingResult(score=0.49596080231545037, std=None)"
      ]
     },
     "execution_count": 18,
     "metadata": {},
     "output_type": "execute_result"
    }
   ],
   "source": [
    "evaluation.normalized_mutual_information(leiden_coms, lp_coms)"
   ]
  },
  {
   "cell_type": "markdown",
   "metadata": {
    "colab_type": "text",
    "id": "w5gyUvBwys5Y"
   },
   "source": [
    "<a id=\"visualization\"></a>\n",
    "### 2.E Community/Statistics Visualization ([to top](#top))\n",
    "\n",
    "``CDlib`` allows to generate two families of predefined plots:\n",
    "- network/community visualizations\n",
    "- community fitness/comparison visualizations"
   ]
  },
  {
   "cell_type": "markdown",
   "metadata": {
    "colab_type": "text",
    "id": "vDj47rTHys5Z"
   },
   "source": [
    "#### 2.E.1 Graph visualization\n",
    "\n",
    "One way to visualize the communities identified on a graph is by coloring graph nodes accordingly"
   ]
  },
  {
   "cell_type": "code",
   "execution_count": 19,
   "metadata": {
    "colab": {},
    "colab_type": "code",
    "id": "rhWaJXWfys5a",
    "outputId": "ce5254b0-65f3-4ca7-a9c7-6febadcd5c1c"
   },
   "outputs": [
    {
     "data": {
      "text/plain": [
       "<matplotlib.collections.PathCollection at 0x7f431c867748>"
      ]
     },
     "execution_count": 19,
     "metadata": {},
     "output_type": "execute_result"
    },
    {
     "data": {
      "image/png": "[encoded data removed]",
      "text/plain": [
       "<Figure size 360x360 with 1 Axes>"
      ]
     },
     "metadata": {},
     "output_type": "display_data"
    }
   ],
   "source": [
    "from cdlib import viz\n",
    "\n",
    "pos = nx.spring_layout(g)\n",
    "viz.plot_network_clusters(g, leiden_coms, pos, figsize=(5, 5))"
   ]
  },
  {
   "cell_type": "code",
   "execution_count": 20,
   "metadata": {
    "colab": {},
    "colab_type": "code",
    "id": "BnOBXED9ys5d",
    "outputId": "65be9e43-400e-4072-94a0-67d13f6a6a4b"
   },
   "outputs": [
    {
     "data": {
      "text/plain": [
       "<matplotlib.collections.PathCollection at 0x7f431c190908>"
      ]
     },
     "execution_count": 20,
     "metadata": {},
     "output_type": "execute_result"
    },
    {
     "data": {
      "image/png": "[encoded data removed]",
      "text/plain": [
       "<Figure size 360x360 with 1 Axes>"
      ]
     },
     "metadata": {},
     "output_type": "display_data"
    }
   ],
   "source": [
    "viz.plot_network_clusters(g, lp_coms, pos, figsize=(5, 5))"
   ]
  },
  {
   "cell_type": "markdown",
   "metadata": {
    "colab_type": "text",
    "id": "m_aiAJsyys5f"
   },
   "source": [
    "Such strategy is feasible when the network is small enogh. In case of medium size graphs an alternative is collapsing all community nodes into a single met-node and visualize the resulting community graph:"
   ]
  },
  {
   "cell_type": "code",
   "execution_count": 21,
   "metadata": {
    "colab": {},
    "colab_type": "code",
    "id": "RtdvRXPAys5g",
    "outputId": "a90fc66a-e51f-40db-fd24-93312ead6f75"
   },
   "outputs": [
    {
     "data": {
      "text/plain": [
       "<matplotlib.collections.PathCollection at 0x7f431c17c160>"
      ]
     },
     "execution_count": 21,
     "metadata": {},
     "output_type": "execute_result"
    },
    {
     "data": {
      "image/png": "[encoded data removed]",
      "text/plain": [
       "<Figure size 216x216 with 1 Axes>"
      ]
     },
     "metadata": {},
     "output_type": "display_data"
    }
   ],
   "source": [
    "viz.plot_community_graph(g, leiden_coms, figsize=(3, 3))"
   ]
  },
  {
   "cell_type": "code",
   "execution_count": 22,
   "metadata": {
    "colab": {},
    "colab_type": "code",
    "id": "vq2IDF9Wys5j",
    "outputId": "e2aa9cc9-8fd4-4227-c8d1-40913a764436"
   },
   "outputs": [
    {
     "data": {
      "text/plain": [
       "<matplotlib.collections.PathCollection at 0x7f431c0d2080>"
      ]
     },
     "execution_count": 22,
     "metadata": {},
     "output_type": "execute_result"
    },
    {
     "data": {
      "image/png": "[encoded data removed]",
      "text/plain": [
       "<Figure size 216x216 with 1 Axes>"
      ]
     },
     "metadata": {},
     "output_type": "display_data"
    }
   ],
   "source": [
    "viz.plot_community_graph(g, lp_coms, figsize=(3, 3))"
   ]
  },
  {
   "cell_type": "markdown",
   "metadata": {
    "colab_type": "text",
    "id": "ZRJ0V8_mys5l"
   },
   "source": [
    "#### 2.E.2 Community fitness/comparison visualization\n",
    "\n",
    "Given one (or more) clustering it could be useful to visualize how a given fitness function distributes over the communities.\n",
    "\n",
    "A nice way to do so is by using violin plots."
   ]
  },
  {
   "cell_type": "code",
   "execution_count": 23,
   "metadata": {
    "colab": {},
    "colab_type": "code",
    "id": "fAIZyo7yys5m",
    "outputId": "926c30fa-8cb5-459e-9861-b7cbd164cf3b"
   },
   "outputs": [
    {
     "name": "stdout",
     "output_type": "stream",
     "text": [
      "<class 'networkx.classes.graph.Graph'>\n"
     ]
    },
    {
     "data": {
      "text/plain": [
       "<matplotlib.axes._subplots.AxesSubplot at 0x7f431c085358>"
      ]
     },
     "execution_count": 23,
     "metadata": {},
     "output_type": "execute_result"
    },
    {
     "data": {
      "image/png": "[encoded data removed]",
      "text/plain": [
       "<Figure size 432x288 with 1 Axes>"
      ]
     },
     "metadata": {
      "needs_background": "light"
     },
     "output_type": "display_data"
    }
   ],
   "source": [
    "viz.plot_com_stat([leiden_coms, lp_coms], evaluation.internal_edge_density)"
   ]
  },
  {
   "cell_type": "markdown",
   "metadata": {
    "colab_type": "text",
    "id": "BJn7hm5Pys5o"
   },
   "source": [
    "Another simple visualization type that allows getting a few insights on community characteristics is the scatter plot.\n",
    "\n",
    "We can easily pair-wise compare fitness functions for one or more clustering as follows:"
   ]
  },
  {
   "cell_type": "code",
   "execution_count": 24,
   "metadata": {
    "colab": {},
    "colab_type": "code",
    "id": "JoLn4RBzys5p",
    "outputId": "e9265eff-4c5d-4403-ccad-f3d01082712d"
   },
   "outputs": [
    {
     "name": "stdout",
     "output_type": "stream",
     "text": [
      "<class 'networkx.classes.graph.Graph'>\n",
      "<class 'networkx.classes.graph.Graph'>\n"
     ]
    },
    {
     "data": {
      "text/plain": [
       "<seaborn.axisgrid.FacetGrid at 0x7f431c013748>"
      ]
     },
     "execution_count": 24,
     "metadata": {},
     "output_type": "execute_result"
    },
    {
     "data": {
      "image/png": "[encoded data removed]",
      "text/plain": [
       "<Figure size 360x360 with 1 Axes>"
      ]
     },
     "metadata": {
      "needs_background": "light"
     },
     "output_type": "display_data"
    }
   ],
   "source": [
    "viz.plot_com_properties_relation([leiden_coms, lp_coms], evaluation.size, evaluation.internal_edge_density)"
   ]
  },
  {
   "cell_type": "markdown",
   "metadata": {
    "colab_type": "text",
    "id": "fLylS9xiys5s"
   },
   "source": [
    "Let assume we want to compare different clusterings over a set of network ground truth partitions.\n",
    "\n",
    "In order to obtain a more interesting example, we can generate a few synthetic graphs with planted ground truth clusterings and perform CD upon them. <br/> We can easily visually compare their resuls as follows:"
   ]
  },
  {
   "cell_type": "code",
   "execution_count": 25,
   "metadata": {
    "colab": {},
    "colab_type": "code",
    "id": "iifpiPrUys5s",
    "outputId": "083eface-bf73-4459-e66b-5af5f4b77b53"
   },
   "outputs": [
    {
     "data": {
      "text/plain": [
       "<matplotlib.axes._subplots.AxesSubplot at 0x7f431c0130f0>"
      ]
     },
     "execution_count": 25,
     "metadata": {},
     "output_type": "execute_result"
    },
    {
     "data": {
      "image/png": "[encoded data removed]",
      "text/plain": [
       "<Figure size 432x288 with 1 Axes>"
      ]
     },
     "metadata": {
      "needs_background": "light"
     },
     "output_type": "display_data"
    }
   ],
   "source": [
    "from cdlib import NodeClustering\n",
    "\n",
    "g1 = nx.algorithms.community.LFR_benchmark_graph(1000, 3, 1.5, 0.5, min_community=20, average_degree=5)\n",
    "g2 = nx.algorithms.community.LFR_benchmark_graph(1000, 3, 1.5, 0.6, min_community=20, average_degree=5)\n",
    "g3 = nx.algorithms.community.LFR_benchmark_graph(1000, 3, 1.5, 0.7, min_community=20, average_degree=5)\n",
    "\n",
    "names = [\"g1\", \"g2\", \"g3\"]\n",
    "graphs = [g1, g2, g3]\n",
    "references = []\n",
    "\n",
    "# building the NodeClustering ground truth for the graphs\n",
    "for g in graphs:\n",
    "    ground_truth = NodeClustering(communities={frozenset(g.nodes[v]['community']) for v in g}, graph=g, method_name=\"reference\")\n",
    "    references.append(ground_truth)\n",
    "    \n",
    "algos = [algorithms.leiden, algorithms.label_propagation]\n",
    "\n",
    "# Computing the visualization (2 execution per method, NMI as scoring for ground truth resemblance)\n",
    "viz.plot_scoring(graphs, references, names, algos, scoring=evaluation.adjusted_mutual_information, nbRuns=2)"
   ]
  },
  {
   "cell_type": "markdown",
   "metadata": {
    "colab_type": "text",
    "id": "3gk3C32dys5v"
   },
   "source": [
    "Finally, we can also compare different clustering obtained on the same graph by alternative algorithms among them. <br/>\n",
    "Let's get back to our initial Karate Club graph and compute a few more clusterings upon it:"
   ]
  },
  {
   "cell_type": "code",
   "execution_count": 26,
   "metadata": {
    "colab": {},
    "colab_type": "code",
    "id": "8EtkqvfPys5w",
    "outputId": "2fa2bc2e-2ab2-4848-ca6b-39981ed0c933"
   },
   "outputs": [
    {
     "data": {
      "text/plain": [
       "<seaborn.matrix.ClusterGrid at 0x7f432062d320>"
      ]
     },
     "execution_count": 26,
     "metadata": {},
     "output_type": "execute_result"
    },
    {
     "data": {
      "image/png": "[encoded data removed]",
      "text/plain": [
       "<Figure size 720x720 with 4 Axes>"
      ]
     },
     "metadata": {
      "needs_background": "light"
     },
     "output_type": "display_data"
    }
   ],
   "source": [
    "g = nx.karate_club_graph()\n",
    "\n",
    "lp_coms = algorithms.label_propagation(g)\n",
    "leiden_coms = algorithms.leiden(g)\n",
    "wp_coms = algorithms.walktrap(g)\n",
    "infomap_coms = algorithms.infomap(g)\n",
    "\n",
    "viz.plot_sim_matrix([leiden_coms, lp_coms, wp_coms, infomap_coms],evaluation.adjusted_mutual_information)"
   ]
  },
  {
   "cell_type": "markdown",
   "metadata": {
    "colab_type": "text",
    "id": "lEOmnbqLys5z"
   },
   "source": [
    "<a id='advanced'></a>\n",
    "## 3. Advanced facilities: Pooling and Optimization ([to top](#top))"
   ]
  },
  {
   "cell_type": "markdown",
   "metadata": {
    "colab_type": "text",
    "id": "Yeht7WNQys5z"
   },
   "source": [
    "``CDlib`` offers a few facilities out-of-the-box to automate the execution of multiple CD approaches over a same graph.\n",
    "\n",
    "The offered facilities can be broadly grouped into two subclasses:\n",
    "- Pooling, and\n",
    "- Optimization\n"
   ]
  },
  {
   "cell_type": "markdown",
   "metadata": {
    "colab_type": "text",
    "id": "0MfKDbpEys50"
   },
   "source": [
    "<a id='pooling'></a>\n",
    "### 3.A Pooling\n",
    "\n",
    "Pooling allows to stack the execution of multiple algorithms"
   ]
  },
  {
   "cell_type": "code",
   "execution_count": 27,
   "metadata": {
    "colab": {},
    "colab_type": "code",
    "id": "SICqHYImys51",
    "outputId": "ad26d3b3-66d5-4ed2-c3ec-f975b08fc149"
   },
   "outputs": [
    {
     "name": "stdout",
     "output_type": "stream",
     "text": [
      "Louvain \n",
      " [[8, 14, 15, 18, 20, 22, 23, 26, 27, 29, 30, 32, 33], [0, 1, 2, 3, 7, 9, 11, 12, 13, 17, 19, 21], [4, 5, 6, 10, 16], [24, 25, 28, 31]]\n",
      "Leiden \n",
      " [[8, 9, 14, 15, 18, 20, 22, 26, 29, 30, 32, 33], [0, 1, 2, 3, 7, 11, 12, 13, 17, 19, 21], [23, 24, 25, 27, 28, 31], [4, 5, 6, 10, 16]]\n"
     ]
    }
   ],
   "source": [
    "from cdlib import ensemble\n",
    "\n",
    "# Louvain configuration\n",
    "methods = [algorithms.louvain, algorithms.leiden]\n",
    "\n",
    "for coms in ensemble.pool(g, methods, configurations=[[], []]):\n",
    "    print(coms.method_name, \"\\n\", coms.communities)"
   ]
  },
  {
   "cell_type": "markdown",
   "metadata": {
    "colab_type": "text",
    "id": "17CcLQx7ys53"
   },
   "source": [
    "The ``configuration`` parameter allows to define a list of parameters for each algorithm. <br/>\n",
    "Each list must contains only instances of either ``Parameter`` or ``BoolParameter`` namedtuples."
   ]
  },
  {
   "cell_type": "code",
   "execution_count": 28,
   "metadata": {
    "colab": {},
    "colab_type": "code",
    "id": "4FTY8KT8ys54",
    "outputId": "44e3f79f-8770-4f81-9be2-499f155c67c0"
   },
   "outputs": [
    {
     "name": "stdout",
     "output_type": "stream",
     "text": [
      "Leiden \n",
      " [[8, 9, 14, 15, 18, 20, 22, 26, 29, 30, 32, 33], [0, 1, 2, 3, 7, 11, 12, 13, 17, 19, 21], [23, 24, 25, 27, 28, 31], [4, 5, 6, 10, 16]]\n",
      "Leiden \n",
      " [[8, 9, 14, 15, 18, 20, 22, 26, 29, 30, 32, 33], [0, 1, 2, 3, 7, 11, 12, 13, 17, 19, 21], [23, 24, 25, 27, 28, 31], [4, 5, 6, 10, 16]]\n"
     ]
    }
   ],
   "source": [
    "# Example of Louvain configuration\n",
    "resolution = ensemble.Parameter(name=\"resolution\", start=0.1)\n",
    "randomize = ensemble.BoolParameter(name=\"randomize\", value=True)\n",
    "louvain_conf = [resolution, randomize]\n",
    "\n",
    "methods = [algorithms.louvain, algorithms.leiden]\n",
    "\n",
    "for communities in ensemble.pool(g, methods, [louvain_conf, []]):\n",
    "    print(coms.method_name, \"\\n\", coms.communities)"
   ]
  },
  {
   "cell_type": "markdown",
   "metadata": {
    "colab_type": "text",
    "id": "c7wYQi0Fys59"
   },
   "source": [
    "``Parameter`` and ``BoolParameter`` allows to define also grid ranges, for instance:"
   ]
  },
  {
   "cell_type": "code",
   "execution_count": 29,
   "metadata": {
    "colab": {},
    "colab_type": "code",
    "id": "T_ncztG9ys5-"
   },
   "outputs": [],
   "source": [
    "resolution = ensemble.Parameter(name=\"resolution\", start=0.1, end=1, step=0.1) # numeric range\n",
    "randomize = ensemble.BoolParameter(name=\"randomize\") # boolean range [True, False]"
   ]
  },
  {
   "cell_type": "markdown",
   "metadata": {
    "colab_type": "text",
    "id": "h8sptRq3ys6B"
   },
   "source": [
    "Such generalization allows for their use into another pooling facility: Grid Execution.\n",
    "\n",
    "Grid Execution takes care to instantiate a CD algorithm with all the possible combination of parameter values (cartesian product) as expressed by the ranges passed as input."
   ]
  },
  {
   "cell_type": "code",
   "execution_count": 30,
   "metadata": {
    "colab": {},
    "colab_type": "code",
    "id": "fj9MoiO2ys6C",
    "outputId": "0d45212c-15aa-4393-a51d-3302f9e6dee3"
   },
   "outputs": [
    {
     "name": "stdout",
     "output_type": "stream",
     "text": [
      "Louvain {'weight': 'weight', 'resolution': 0.7, 'randomize': False} \n",
      " [[0, 1, 2, 3, 7, 9, 11, 12, 13, 17, 19, 21], [8, 14, 15, 18, 20, 22, 30, 32, 33], [4, 5, 6, 10, 16], [23, 26, 27, 29], [24, 25, 28, 31]] \n",
      "\n",
      "Louvain {'weight': 'weight', 'resolution': 0.7999999999999999, 'randomize': False} \n",
      " [[8, 14, 15, 18, 20, 22, 23, 26, 27, 29, 30, 32, 33], [0, 1, 2, 3, 7, 9, 11, 12, 13, 17, 19, 21], [4, 5, 6, 10, 16], [24, 25, 28, 31]] \n",
      "\n",
      "Louvain {'weight': 'weight', 'resolution': 0.8999999999999999, 'randomize': False} \n",
      " [[8, 14, 15, 18, 20, 22, 23, 26, 27, 29, 30, 32, 33], [0, 1, 2, 3, 7, 9, 11, 12, 13, 17, 19, 21], [4, 5, 6, 10, 16], [24, 25, 28, 31]] \n",
      "\n",
      "Louvain {'weight': 'weight', 'resolution': 0.9999999999999999, 'randomize': False} \n",
      " [[8, 14, 15, 18, 20, 22, 23, 26, 27, 29, 30, 32, 33], [0, 1, 2, 3, 7, 9, 11, 12, 13, 17, 19, 21], [4, 5, 6, 10, 16], [24, 25, 28, 31]] \n",
      "\n"
     ]
    }
   ],
   "source": [
    "resolution = ensemble.Parameter(name=\"resolution\", start=0.7, end=1, step=0.1)\n",
    "\n",
    "for coms in ensemble.grid_execution(graph=g, method=algorithms.louvain, parameters=[resolution]):\n",
    "    print(coms.method_name, coms.method_parameters, \"\\n\", coms.communities, \"\\n\")"
   ]
  },
  {
   "cell_type": "markdown",
   "metadata": {
    "colab_type": "text",
    "id": "1lhq9bQoys6F"
   },
   "source": [
    "<a id='optimization'></a>\n",
    "### 3.A Optimization\n",
    "\n",
    "Often it make sense to execute a given CD algorithm multiple times, varying its parameters, so to identify the optimal configuration w.r.t. a given fitness score."
   ]
  },
  {
   "cell_type": "markdown",
   "metadata": {
    "colab_type": "text",
    "id": "wrt-11abys6F"
   },
   "source": [
    "The esiest way to do so is by performing a grid search:"
   ]
  },
  {
   "cell_type": "code",
   "execution_count": 31,
   "metadata": {
    "colab": {},
    "colab_type": "code",
    "id": "RBvVwqnWys6G",
    "outputId": "281e488b-cccd-4639-e0f8-01f49170e777"
   },
   "outputs": [
    {
     "name": "stdout",
     "output_type": "stream",
     "text": [
      "Communities:\n",
      " [[8, 14, 15, 18, 20, 22, 23, 26, 27, 29, 30, 32, 33], [0, 1, 2, 3, 7, 9, 11, 12, 13, 17, 19, 21], [4, 5, 6, 10, 16], [24, 25, 28, 31]] \n",
      "Configuration: {'weight': 'weight', 'resolution': 0.8, 'randomize': False} \n",
      "Scoring: FitnessResult(min=None, max=None, score=0.4712052653229123, std=None)\n"
     ]
    }
   ],
   "source": [
    "resolution = ensemble.Parameter(name=\"resolution\", start=0.1, end=1, step=0.1)\n",
    "randomize = ensemble.BoolParameter(name=\"randomize\")\n",
    "\n",
    "coms, scoring = ensemble.grid_search(graph=g, method=algorithms.louvain,\n",
    "                                                     parameters=[resolution, randomize],\n",
    "                                                     quality_score=evaluation.erdos_renyi_modularity,\n",
    "                                                     aggregate=max)\n",
    "\n",
    "print(\"Communities:\\n %s \\nConfiguration: %s \\nScoring: %s\" %(coms.communities, coms.method_parameters, scoring))"
   ]
  },
  {
   "cell_type": "markdown",
   "metadata": {
    "colab_type": "text",
    "id": "MGuloSfSys6K"
   },
   "source": [
    "Grid search will execute **all** the possible configuration as expressed by the method parameters and return only the optimal partition w.r.t. the specified fitness function (ER modularity in our example) and aggregation function (we want to maximize the fitness score)."
   ]
  },
  {
   "cell_type": "markdown",
   "metadata": {
    "colab_type": "text",
    "id": "V4p9ZKlEys6L"
   },
   "source": [
    "Indeed, such strategy could be costly. <br/>\n",
    "For this reason ``CDlib`` aslo implements a random search optimization strategy that reduces the number of method instantiation over the configuration grids (controlling it through the ``instance`` parameter value)."
   ]
  },
  {
   "cell_type": "code",
   "execution_count": 32,
   "metadata": {
    "colab": {},
    "colab_type": "code",
    "id": "Lwn7a5r5ys6N",
    "outputId": "c8fb2f1b-a12b-4a2c-e5c0-511fe347b9c9"
   },
   "outputs": [
    {
     "name": "stdout",
     "output_type": "stream",
     "text": [
      "Communities:\n",
      " [[8, 14, 15, 18, 20, 22, 23, 26, 27, 29, 30, 32, 33], [0, 1, 2, 3, 7, 9, 11, 12, 13, 17, 19, 21], [4, 5, 6, 10, 16], [24, 25, 28, 31]] \n",
      "Configuration: {'weight': 'weight', 'resolution': 0.8, 'randomize': False} \n",
      "Scoring: FitnessResult(min=None, max=None, score=0.4712052653229123, std=None)\n"
     ]
    }
   ],
   "source": [
    "communities, scoring = ensemble.random_search(graph=g, method=algorithms.louvain,\n",
    "                                                       parameters=[resolution, randomize],\n",
    "                                                       quality_score=evaluation.erdos_renyi_modularity,\n",
    "                                                       instances=5, aggregate=max)\n",
    "\n",
    "print(\"Communities:\\n %s \\nConfiguration: %s \\nScoring: %s\" %(coms.communities, coms.method_parameters, scoring))"
   ]
  },
  {
   "cell_type": "markdown",
   "metadata": {
    "colab_type": "text",
    "id": "uLs7b6umys6Z"
   },
   "source": [
    "Finally, we can think of combining pooling and optimization to get only the optimal results for all the algorithms we want to apply to our graph.\n",
    "\n",
    "In ``CDlib`` we can do it easily as follows:"
   ]
  },
  {
   "cell_type": "code",
   "execution_count": 33,
   "metadata": {
    "colab": {},
    "colab_type": "code",
    "id": "OUe516d9ys6e",
    "outputId": "4345a211-7656-45f5-9334-a4352b60ac5f"
   },
   "outputs": [
    {
     "name": "stdout",
     "output_type": "stream",
     "text": [
      "Louvain\n",
      "Communities:\n",
      " [[8, 14, 15, 18, 20, 22, 23, 26, 27, 29, 30, 32, 33], [0, 1, 2, 3, 7, 9, 11, 12, 13, 17, 19, 21], [4, 5, 6, 10, 16], [24, 25, 28, 31]] \n",
      "Configuration: {'weight': 'weight', 'resolution': 0.8, 'randomize': False} \n",
      "Scoring: FitnessResult(min=None, max=None, score=0.4712052653229123, std=None)\n",
      "\n",
      "DEMON\n",
      "Communities:\n",
      " [[2, 8, 14, 15, 18, 20, 22, 23, 26, 27, 29, 30, 31, 32, 33], [8, 14, 15, 18, 20, 22, 23, 26, 27, 28, 29, 30, 31, 32, 33], [0, 1, 2, 3, 7, 8, 12, 13, 17, 19, 21, 30, 32, 33], [0, 4, 5, 6, 10, 16]] \n",
      "Configuration: {'epsilon': 0.5000000000000001, 'min_com_size': 3} \n",
      "Scoring: FitnessResult(min=None, max=None, score=0.757232963115316, std=None)\n",
      "\n"
     ]
    }
   ],
   "source": [
    "louvain_conf = [resolution, randomize]\n",
    "\n",
    "epsilon = ensemble.Parameter(name=\"epsilon\", start=0.2, end=0.7, step=0.1)\n",
    "demon_conf = [epsilon]\n",
    "\n",
    "methods = [algorithms.louvain, algorithms.demon]\n",
    "\n",
    "for coms, scoring in ensemble.pool_grid_filter(g, methods, [louvain_conf, demon_conf], quality_score=evaluation.erdos_renyi_modularity, aggregate=max):\n",
    "    print(\"%s\\nCommunities:\\n %s \\nConfiguration: %s \\nScoring: %s\\n\" %(coms.method_name, coms.communities, coms.method_parameters, scoring))"
   ]
  },
  {
   "cell_type": "markdown",
   "metadata": {
    "colab_type": "text",
    "id": "izZEnjeqys6g"
   },
   "source": [
    "<a id=\"conclusion\"></a>\n",
    "## 4. Conclusions ([to top](#top))"
   ]
  },
  {
   "cell_type": "markdown",
   "metadata": {
    "colab_type": "text",
    "id": "3LY8l83Lys6h"
   },
   "source": [
    "In this notebook we introduced the basic facilities offered by ``CDlib``.\n",
    "\n",
    "For any issue, suggestion, bug report feel free to contact us on the official [GitHub repository](https://github.com/GiulioRossetti/cdlib) of the project."
   ]
  },
  {
   "cell_type": "code",
   "execution_count": 0,
   "metadata": {
    "colab": {},
    "colab_type": "code",
    "id": "svqvY57Mys6i"
   },
   "outputs": [],
   "source": []
  }
 ],
 "metadata": {
  "colab": {
   "name": "CDlib.ipynb",
   "provenance": []
  },
  "kernelspec": {
   "display_name": "Python 3",
   "language": "python",
   "name": "python3"
  },
  "language_info": {
   "codemirror_mode": {
    "name": "ipython",
    "version": 3
   },
   "file_extension": ".py",
   "mimetype": "text/x-python",
   "name": "python",
   "nbconvert_exporter": "python",
   "pygments_lexer": "ipython3",
   "version": "3.7.3"
  }
 },
 "nbformat": 4,
 "nbformat_minor": 1
}
