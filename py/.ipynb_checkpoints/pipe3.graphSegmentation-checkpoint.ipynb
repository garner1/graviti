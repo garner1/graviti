{
 "cells": [
  {
   "cell_type": "code",
   "execution_count": 1,
   "metadata": {},
   "outputs": [],
   "source": [
    "import numpy as np\n",
    "from scipy import ndimage, sparse\n",
    "from scipy.linalg import eigh, inv, logm, norm\n",
    "import sys\n",
    "import glob\n",
    "import umap\n",
    "import warnings\n",
    "warnings.filterwarnings('ignore')\n",
    "\n",
    "import networkx as nx\n",
    "import seaborn as sns; sns.set()\n",
    "import matplotlib.pyplot as plt\n"
   ]
  },
  {
   "cell_type": "code",
   "execution_count": 2,
   "metadata": {},
   "outputs": [],
   "source": [
    "# FROM DATA MATRICES X-XY_data.npz TO UMAP GRAPHS\n",
    "filename = '/home/garner1/Work/dataset/tissue2graph/ID2_data_RC-XY-A-I'\n",
    "ID = 'ID2' #patient ID\n",
    "\n",
    "data = np.load(filename+'.npz',allow_pickle=True)\n",
    "XY = data['XY'] # spatial coordinates of the nuclei\n",
    "A = data['A'] # area of the nuclei\n",
    "I = data['I'] # intensity of the nuclei"
   ]
  },
  {
   "cell_type": "code",
   "execution_count": 3,
   "metadata": {},
   "outputs": [
    {
     "name": "stdout",
     "output_type": "stream",
     "text": [
      "UMAP with nn=20\n"
     ]
    }
   ],
   "source": [
    "nn = int(np.log2(XY.shape[0])) #scale the nn logarithmically in the numb of nodes to have enough density of edges for clustering\n",
    "print('UMAP with nn='+str(nn))\n",
    "mat_XY = umap.umap_.fuzzy_simplicial_set(\n",
    "        XY,\n",
    "        n_neighbors=nn, \n",
    "        random_state=np.random.RandomState(seed=42),\n",
    "        metric='l2',\n",
    "        metric_kwds={},\n",
    "        knn_indices=None,\n",
    "        knn_dists=None,\n",
    "        angular=False,\n",
    "        set_op_mix_ratio=1.0,\n",
    "        local_connectivity=2.0,\n",
    "        verbose=False\n",
    "    )\n",
    "sparse.save_npz(str(ID)+'_nn'+str(nn)+'.npz',mat_XY)"
   ]
  },
  {
   "cell_type": "code",
   "execution_count": 18,
   "metadata": {},
   "outputs": [
    {
     "name": "stdout",
     "output_type": "stream",
     "text": [
      "saving graph\n"
     ]
    }
   ],
   "source": [
    "# Plot the graph\n",
    "pos = XY\n",
    "G = nx.from_scipy_sparse_matrix(mat_XY)\n",
    "\n",
    "eset = [(u, v) for (u, v, d) in G.edges(data=True)]\n",
    "weights = [d['weight'] for (u, v, d) in G.edges(data=True)]\n",
    "\n",
    "sns.set(style='white', rc={'figure.figsize':(50,50)})\n",
    "nx.draw_networkx_nodes(G, pos, alpha=0.0)\n",
    "nx.draw_networkx_edges(G, pos, edgelist=eset,alpha=1.0, width=weights,edge_color='r',style='solid')\n",
    "\n",
    "print('saving graph')\n",
    "plt.axis('off')\n",
    "plt.savefig(\"test.png\") # save as png\n",
    "plt.close()"
   ]
  },
  {
   "cell_type": "markdown",
   "metadata": {},
   "source": [
    "# Stochastic walk on the graph of nuclei\n",
    "\n",
    "* Given the spatial matrix of connections, we normalize it so that all rows sum to 1; let's call S the row-stochastic matrix.\n",
    "* Applying S to the col-vector of nuclei's areas we obtain the vector whose i-th row represent the average area of the nuclei at 1 step from the i-th nucleus in the graph, weighted by the probability of the random walker going from i to each of the neighbor nuclei\n",
    "* Applying S n-times gives a col-vector whose i-th row represent the average area of the nuclei at n-step from the i-th nucleus in the graph, weighted by the probability of the random walker going from i to each of the n-neighboring nuclei \n",
    "\n",
    "The path-averaged area 1-step starting from $i$ is $\\sum_jS_i^j a_j^1$. In general the path-averaged area n-steps starting from $i$ is $S^n a = \\sum_{\\cdots j}S_i^{(1)\\cdot} ... S_{\\cdot}^{(n)j} a_j^1$$\n",
    "\n",
    "The path-average distribution of both area and intensity's density are well aproximated by a log-normal and by a normal distribution, respectively. Hence we could use the absolute value of the z-score to determine a node attribute and color the graph nodes based on this attibute."
   ]
  },
  {
   "cell_type": "code",
   "execution_count": 5,
   "metadata": {},
   "outputs": [],
   "source": [
    "mat_XY = sparse.load_npz('/home/garner1/Work/pipelines/graviti/py/ID2_nn20.npz')"
   ]
  },
  {
   "cell_type": "code",
   "execution_count": 6,
   "metadata": {},
   "outputs": [],
   "source": [
    "from sklearn.preprocessing import normalize\n",
    "\n",
    "S = normalize(mat_XY, norm='l1', axis=1) #normalized by row"
   ]
  },
  {
   "cell_type": "code",
   "execution_count": 37,
   "metadata": {},
   "outputs": [
    {
     "name": "stdout",
     "output_type": "stream",
     "text": [
      "0\n",
      "1\n",
      "2\n",
      "3\n",
      "4\n",
      "5\n",
      "6\n",
      "7\n",
      "8\n"
     ]
    },
    {
     "data": {
      "image/png": "[encoded data removed]",
      "text/plain": [
       "<Figure size 432x288 with 1 Axes>"
      ]
     },
     "metadata": {},
     "output_type": "display_data"
    }
   ],
   "source": [
    "vec = A #np.divide(I,A)\n",
    "history = vec\n",
    "nn = 9\n",
    "for counter in range(nn):\n",
    "    print(counter)\n",
    "    vec = S.dot(vec)\n",
    "    history = np.hstack((history,vec)) \n",
    "\n",
    "import numpy as np\n",
    "from scipy.stats import norm, zscore, poisson\n",
    "import matplotlib.pyplot as plt\n",
    "\n",
    "# Fit a normal distribution to the data:\n",
    "step = counter\n",
    "mu, std = norm.fit(np.log2(history[:,step])) # you could also fit to a lognorma the original data\n",
    "plt.hist(np.log2(history[:,step]), bins=100, density=True, alpha=0.6, color='g')\n",
    "                       \n",
    "# Plot the PDF.\n",
    "xmin, xmax = plt.xlim()\n",
    "x = np.linspace(xmin, xmax, 100)\n",
    "p = norm.pdf(x, mu, std)\n",
    "plt.plot(x, p, 'k', linewidth=2)\n",
    "title = \"Fit results: mu = %.2f,  std = %.2f\" % (mu, std)\n",
    "plt.title(title)\n",
    "\n",
    "plt.show()"
   ]
  },
  {
   "cell_type": "code",
   "execution_count": 49,
   "metadata": {},
   "outputs": [
    {
     "name": "stdout",
     "output_type": "stream",
     "text": [
      "0\n",
      "1\n",
      "2\n",
      "3\n",
      "4\n",
      "5\n",
      "6\n",
      "7\n",
      "8\n",
      "9\n"
     ]
    },
    {
     "data": {
      "image/png": "[encoded data removed]",
      "text/plain": [
       "<Figure size 432x288 with 1 Axes>"
      ]
     },
     "metadata": {},
     "output_type": "display_data"
    }
   ],
   "source": [
    "vec = np.divide(I,A)\n",
    "history = vec\n",
    "nn = 10\n",
    "for counter in range(nn):\n",
    "    print(counter)\n",
    "    vec = S.dot(vec)\n",
    "    history = np.hstack((history,vec)) \n",
    "\n",
    "import numpy as np\n",
    "from scipy.stats import norm, zscore, poisson\n",
    "import matplotlib.pyplot as plt\n",
    "\n",
    "# Fit a normal distribution to the data:\n",
    "step = counter\n",
    "mu, std = norm.fit(history[:,step]) # you could also fit to a lognorma the original data\n",
    "plt.hist(history[:,step], bins=100, density=True, alpha=0.6, color='g')\n",
    "                       \n",
    "# Plot the PDF.\n",
    "xmin, xmax = plt.xlim()\n",
    "x = np.linspace(xmin, xmax, 100)\n",
    "p = norm.pdf(x, mu, std)\n",
    "plt.plot(x, p, 'k', linewidth=2)\n",
    "title = \"Fit results: mu = %.2f,  std = %.2f\" % (mu, std)\n",
    "plt.title(title)\n",
    "\n",
    "plt.show()"
   ]
  },
  {
   "cell_type": "code",
   "execution_count": 50,
   "metadata": {},
   "outputs": [
    {
     "data": {
      "text/plain": [
       "(array([8.0594e+04, 7.9517e+04, 7.8073e+04, 7.7321e+04, 7.6409e+04,\n",
       "        7.4247e+04, 7.2484e+04, 6.9432e+04, 6.5923e+04, 6.2605e+04,\n",
       "        5.8849e+04, 5.4891e+04, 5.1107e+04, 4.7638e+04, 4.3953e+04,\n",
       "        3.9691e+04, 3.6769e+04, 3.2947e+04, 3.0423e+04, 2.7609e+04,\n",
       "        2.4518e+04, 2.2199e+04, 2.0248e+04, 1.8114e+04, 1.6139e+04,\n",
       "        1.4195e+04, 1.2394e+04, 1.0730e+04, 9.2480e+03, 8.3210e+03,\n",
       "        7.2650e+03, 6.4560e+03, 5.5140e+03, 4.7070e+03, 4.0460e+03,\n",
       "        3.4140e+03, 3.0340e+03, 2.7190e+03, 2.2260e+03, 1.9610e+03,\n",
       "        1.5240e+03, 1.3420e+03, 1.2100e+03, 1.0750e+03, 9.6300e+02,\n",
       "        8.3900e+02, 8.6200e+02, 7.8500e+02, 7.1400e+02, 6.3100e+02,\n",
       "        6.4900e+02, 5.4400e+02, 4.4700e+02, 4.2900e+02, 4.0200e+02,\n",
       "        3.7500e+02, 3.4200e+02, 3.2000e+02, 2.7800e+02, 2.7600e+02,\n",
       "        2.4300e+02, 2.4200e+02, 2.7000e+02, 2.3000e+02, 2.0500e+02,\n",
       "        1.8600e+02, 1.7900e+02, 1.4100e+02, 1.6200e+02, 1.3700e+02,\n",
       "        1.4200e+02, 1.2500e+02, 1.1800e+02, 1.1700e+02, 1.0300e+02,\n",
       "        9.2000e+01, 1.2100e+02, 7.7000e+01, 1.0600e+02, 6.8000e+01,\n",
       "        5.0000e+01, 5.4000e+01, 5.6000e+01, 4.7000e+01, 6.0000e+01,\n",
       "        6.0000e+01, 4.0000e+01, 3.0000e+01, 2.6000e+01, 2.4000e+01,\n",
       "        3.6000e+01, 3.4000e+01, 3.9000e+01, 3.0000e+01, 3.4000e+01,\n",
       "        4.0000e+01, 1.8000e+01, 1.5000e+01, 1.9000e+01, 1.6000e+01]),\n",
       " array([7.93172183e-07, 6.73535813e-02, 1.34706370e-01, 2.02059158e-01,\n",
       "        2.69411946e-01, 3.36764734e-01, 4.04117522e-01, 4.71470310e-01,\n",
       "        5.38823099e-01, 6.06175887e-01, 6.73528675e-01, 7.40881463e-01,\n",
       "        8.08234251e-01, 8.75587039e-01, 9.42939828e-01, 1.01029262e+00,\n",
       "        1.07764540e+00, 1.14499819e+00, 1.21235098e+00, 1.27970377e+00,\n",
       "        1.34705656e+00, 1.41440934e+00, 1.48176213e+00, 1.54911492e+00,\n",
       "        1.61646771e+00, 1.68382050e+00, 1.75117329e+00, 1.81852607e+00,\n",
       "        1.88587886e+00, 1.95323165e+00, 2.02058444e+00, 2.08793723e+00,\n",
       "        2.15529001e+00, 2.22264280e+00, 2.28999559e+00, 2.35734838e+00,\n",
       "        2.42470117e+00, 2.49205396e+00, 2.55940674e+00, 2.62675953e+00,\n",
       "        2.69411232e+00, 2.76146511e+00, 2.82881790e+00, 2.89617068e+00,\n",
       "        2.96352347e+00, 3.03087626e+00, 3.09822905e+00, 3.16558184e+00,\n",
       "        3.23293463e+00, 3.30028741e+00, 3.36764020e+00, 3.43499299e+00,\n",
       "        3.50234578e+00, 3.56969857e+00, 3.63705135e+00, 3.70440414e+00,\n",
       "        3.77175693e+00, 3.83910972e+00, 3.90646251e+00, 3.97381530e+00,\n",
       "        4.04116808e+00, 4.10852087e+00, 4.17587366e+00, 4.24322645e+00,\n",
       "        4.31057924e+00, 4.37793202e+00, 4.44528481e+00, 4.51263760e+00,\n",
       "        4.57999039e+00, 4.64734318e+00, 4.71469597e+00, 4.78204875e+00,\n",
       "        4.84940154e+00, 4.91675433e+00, 4.98410712e+00, 5.05145991e+00,\n",
       "        5.11881269e+00, 5.18616548e+00, 5.25351827e+00, 5.32087106e+00,\n",
       "        5.38822385e+00, 5.45557664e+00, 5.52292942e+00, 5.59028221e+00,\n",
       "        5.65763500e+00, 5.72498779e+00, 5.79234058e+00, 5.85969336e+00,\n",
       "        5.92704615e+00, 5.99439894e+00, 6.06175173e+00, 6.12910452e+00,\n",
       "        6.19645731e+00, 6.26381009e+00, 6.33116288e+00, 6.39851567e+00,\n",
       "        6.46586846e+00, 6.53322125e+00, 6.60057403e+00, 6.66792682e+00,\n",
       "        6.73527961e+00]),\n",
       " <a list of 100 Patch objects>)"
      ]
     },
     "execution_count": 50,
     "metadata": {},
     "output_type": "execute_result"
    },
    {
     "data": {
      "image/png": "[encoded data removed]",
      "text/plain": [
       "<Figure size 432x288 with 1 Axes>"
      ]
     },
     "metadata": {},
     "output_type": "display_data"
    }
   ],
   "source": [
    "plt.hist(abs(zscore(np.log2(history[:,step]))),bins=100)"
   ]
  },
  {
   "cell_type": "code",
   "execution_count": null,
   "metadata": {},
   "outputs": [],
   "source": [
    "z = abs(zscore(np.log2(history[:,step]))) # this becomes a node attribute: color the node based on this"
   ]
  }
 ],
 "metadata": {
  "kernelspec": {
   "display_name": "Python 3",
   "language": "python",
   "name": "python3"
  },
  "language_info": {
   "codemirror_mode": {
    "name": "ipython",
    "version": 3
   },
   "file_extension": ".py",
   "mimetype": "text/x-python",
   "name": "python",
   "nbconvert_exporter": "python",
   "pygments_lexer": "ipython3",
   "version": "3.7.3"
  }
 },
 "nbformat": 4,
 "nbformat_minor": 2
}
