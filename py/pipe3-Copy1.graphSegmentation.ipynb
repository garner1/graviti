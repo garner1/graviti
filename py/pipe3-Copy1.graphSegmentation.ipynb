{
 "cells": [
  {
   "cell_type": "code",
   "execution_count": 1,
   "metadata": {},
   "outputs": [],
   "source": [
    "import numpy as np\n",
    "from scipy import ndimage, sparse\n",
    "from scipy.linalg import eigh, inv, logm, norm\n",
    "import sys\n",
    "import glob\n",
    "import umap\n",
    "import warnings\n",
    "warnings.filterwarnings('ignore')"
   ]
  },
  {
   "cell_type": "code",
   "execution_count": 3,
   "metadata": {},
   "outputs": [
    {
     "name": "stdout",
     "output_type": "stream",
     "text": [
      "UMAP with nn=20\n"
     ]
    }
   ],
   "source": [
    "# FROM DATA MATRICES X-XY_data.npz TO UMAP GRAPHS\n",
    "filename = '/home/garner1/Work/dataset/tissue2graph/ID2_data_RC-XY-A-I'\n",
    "ID = 'ID2' #patient ID\n",
    "\n",
    "data = np.load(filename+'.npz',allow_pickle=True)\n",
    "XY = data['XY'] # spatial coordinates of the nuclei\n",
    "A = data['A'] # area of the nuclei\n",
    "I = data['I'] # intensity of the nuclei\n",
    "\n",
    "nn = int(np.log2(XY.shape[0])) #scale the nn logarithmically in the numb of nodes to have enough density of edges for clustering\n",
    "print('UMAP with nn='+str(nn))\n",
    "mat_XY = umap.umap_.fuzzy_simplicial_set(\n",
    "        XY,\n",
    "        n_neighbors=nn, \n",
    "        random_state=np.random.RandomState(seed=42),\n",
    "        metric='l2',\n",
    "        metric_kwds={},\n",
    "        knn_indices=None,\n",
    "        knn_dists=None,\n",
    "        angular=False,\n",
    "        set_op_mix_ratio=1.0,\n",
    "        local_connectivity=2.0,\n",
    "        verbose=False\n",
    "    )\n",
    "sparse.save_npz(str(ID)+'_nn'+str(nn)+'.npz',mat_XY)"
   ]
  },
  {
   "cell_type": "code",
   "execution_count": 5,
   "metadata": {},
   "outputs": [
    {
     "name": "stdout",
     "output_type": "stream",
     "text": [
      "saving graph\n"
     ]
    }
   ],
   "source": [
    "import networkx as nx\n",
    "import seaborn as sns; sns.set()\n",
    "import matplotlib.pyplot as plt\n",
    "\n",
    "pos = XY\n",
    "G = nx.from_scipy_sparse_matrix(mat_XY)\n",
    "\n",
    "eset = [(u, v) for (u, v, d) in G.edges(data=True)]\n",
    "weights = [d['weight'] for (u, v, d) in G.edges(data=True)]\n",
    "\n",
    "sns.set(style='white', rc={'figure.figsize':(50,50)})\n",
    "nx.draw_networkx_nodes(G, pos, alpha=0.0)\n",
    "nx.draw_networkx_edges(G, pos, edgelist=eset,alpha=1.0, width=weights,edge_color='r',style='solid')\n",
    "print('saving graph')\n",
    "plt.axis('off')\n",
    "plt.savefig(\"test2.png\") # save as png\n",
    "plt.close()"
   ]
  },
  {
   "cell_type": "code",
   "execution_count": null,
   "metadata": {},
   "outputs": [],
   "source": []
  }
 ],
 "metadata": {
  "kernelspec": {
   "display_name": "Python 3",
   "language": "python",
   "name": "python3"
  },
  "language_info": {
   "codemirror_mode": {
    "name": "ipython",
    "version": 3
   },
   "file_extension": ".py",
   "mimetype": "text/x-python",
   "name": "python",
   "nbconvert_exporter": "python",
   "pygments_lexer": "ipython3",
   "version": "3.7.3"
  }
 },
 "nbformat": 4,
 "nbformat_minor": 2
}
